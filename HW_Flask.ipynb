{
 "cells": [
  {
   "cell_type": "code",
   "execution_count": 18,
   "id": "46c55dfa",
   "metadata": {},
   "outputs": [],
   "source": [
    "from sklearn.datasets import make_classification\n",
    "from sklearn.linear_model import LogisticRegression\n",
    "from sklearn.ensemble import RandomForestClassifier\n",
    "from lightgbm import LGBMClassifier\n",
    "from sklearn.model_selection import train_test_split\n",
    "from sklearn.metrics import accuracy_score, average_precision_score, roc_auc_score\n",
    "import numpy as np\n",
    "import pandas as pd\n",
    "import optuna\n",
    "from sklearn.model_selection import StratifiedKFold, cross_val_score"
   ]
  },
  {
   "cell_type": "markdown",
   "id": "617314ec",
   "metadata": {},
   "source": [
    "## Requests"
   ]
  },
  {
   "cell_type": "markdown",
   "id": "383c492d",
   "metadata": {},
   "source": [
    "Проверки:\n",
    "\n",
    "Вывод инфы:\n",
    "\n",
    "    1 - Проверить, что модель выдает список классов \n",
    "    2 - Проверить, что модель выдает обученные модели \n",
    "    3 - Проверить, что класс выдает количество обученных моделей \n",
    "\n",
    "Обучение модели:\n",
    "\n",
    "    1 - Проверить что класс обучает логрег, форест, бустинг при подаче train, test данных\n",
    "    2 - Проверить, что класс обучает модели без test данных \n",
    "    2 - Проверить, что класс обучает модель с заданными параметрами\n",
    "    3 - Проверить, что класс подбирает гиперпараметры если задать пороги \n",
    "    4 - Проверить, что класс подбирает гиперпараметры если не задавать пороги \n",
    "\n",
    "Предикт:\n",
    "\n",
    "    1 - Проверить, как класс прогнозирует если нет y_test \n",
    "    2 - Проверить, как класс прогнозирует если есть y_test\n",
    "    1 - Проверить, как класс прогнозирует если нет y_test для одного примера\n",
    "    2 - Проверить, как класс прогнозирует если есть y_test для одного примера\n",
    "\n",
    "Удаление:\n",
    "\n",
    "    1 - Проверить, как класс очищает ВСЕ модели \n",
    "    2 - Проверить, как класс очищает одну модель\n",
    "\n",
    "Ошибки:\n",
    "\n",
    "    1 - Проверить, что будет, если подать неправильные гиперпараметры на этапе:\n",
    "\n",
    "        1 - Обучения\n",
    "        2 - Подбора гиперпараметров"
   ]
  },
  {
   "cell_type": "code",
   "execution_count": 19,
   "id": "a70109d8",
   "metadata": {},
   "outputs": [],
   "source": [
    "import requests"
   ]
  },
  {
   "cell_type": "code",
   "execution_count": 20,
   "id": "b67b399e",
   "metadata": {},
   "outputs": [],
   "source": [
    "from sklearn.datasets import make_classification\n",
    "from sklearn.linear_model import LogisticRegression\n",
    "from sklearn.ensemble import RandomForestClassifier\n",
    "from lightgbm import LGBMClassifier\n",
    "from sklearn.model_selection import train_test_split\n",
    "from sklearn.metrics import accuracy_score, average_precision_score, roc_auc_score\n",
    "import numpy as np\n",
    "import pandas as pd\n",
    "import optuna\n",
    "from sklearn.model_selection import StratifiedKFold, cross_val_score"
   ]
  },
  {
   "cell_type": "code",
   "execution_count": 21,
   "id": "1b55e8b3",
   "metadata": {},
   "outputs": [],
   "source": [
    "X, y = make_classification(n_samples = 10000, \n",
    "                                             n_classes = 2, \n",
    "                                             n_features = 10, \n",
    "                                             n_informative = 10,\n",
    "                                             n_redundant = 0,\n",
    "                                             n_repeated = 0)\n",
    "X = pd.DataFrame(X)\n",
    "y = pd.Series(y)"
   ]
  },
  {
   "cell_type": "code",
   "execution_count": 22,
   "id": "c3cdc0ed",
   "metadata": {},
   "outputs": [],
   "source": [
    "train, test, y_train, y_test = train_test_split(X, y,\n",
    "                                                    stratify=y,\n",
    "                                                    test_size=0.25)"
   ]
  },
  {
   "cell_type": "code",
   "execution_count": 23,
   "id": "c67b463b",
   "metadata": {},
   "outputs": [],
   "source": [
    "train.to_json('train.json')\n",
    "y_train.to_json('y_train.json')\n",
    "test.to_json('test.json')\n",
    "y_test.to_json('y_test.json')"
   ]
  },
  {
   "cell_type": "markdown",
   "id": "d8890613",
   "metadata": {},
   "source": [
    "**Вывод инфы:**\n",
    "\n",
    "    1 - Проверить, что модель выдает список классов\n",
    "    2 - Проверить, что модель выдает обученные модели "
   ]
  },
  {
   "cell_type": "code",
   "execution_count": 24,
   "id": "1ad0779f",
   "metadata": {
    "scrolled": true
   },
   "outputs": [
    {
     "data": {
      "text/plain": [
       "[{'model': LogisticRegression(class_weight='balanced', random_state=241,\n",
       "                     solver='liblinear'),\n",
       "  'name': 'logreg',\n",
       "  'params': {'class_weight': 'balanced',\n",
       "   'random_state': 241,\n",
       "   'penalty': 'l2',\n",
       "   'solver': 'liblinear'},\n",
       "  'acc': 0.87,\n",
       "  'roc_auc': 0.9424469333333333,\n",
       "  'aps': 0.9429199180290935},\n",
       " {'model': LGBMClassifier(class_weight='balanced', random_state=241),\n",
       "  'name': 'boosting',\n",
       "  'params': {'class_weight': 'balanced',\n",
       "   'random_state': 241,\n",
       "   'boosting_type': 'gbdt',\n",
       "   'max_depth': 3,\n",
       "   'num_leaves': 29,\n",
       "   'learning_rate': 0.4927126460889275,\n",
       "   'feature_fraction': 0.6787834493733688,\n",
       "   'bagging_fraction': 0.464276054501746,\n",
       "   'bagging_freq': 4,\n",
       "   'lambda_l1': 0.2922203076605213,\n",
       "   'lambda_l2': 3.3807038414452943,\n",
       "   'n_estimators': 99},\n",
       "  'acc': 0.9669333333333333,\n",
       "  'roc_auc': 0.9914161066666667,\n",
       "  'aps': 0.990546015632131},\n",
       " {'model': LGBMClassifier(class_weight='balanced', random_state=241),\n",
       "  'name': 'boosting',\n",
       "  'params': {'class_weight': 'balanced',\n",
       "   'random_state': 241,\n",
       "   'boosting_type': 'gbdt',\n",
       "   'max_depth': 3,\n",
       "   'num_leaves': 29,\n",
       "   'learning_rate': 0.4927126460889275,\n",
       "   'feature_fraction': 0.6787834493733688,\n",
       "   'bagging_fraction': 0.464276054501746,\n",
       "   'bagging_freq': 4,\n",
       "   'lambda_l1': 0.2922203076605213,\n",
       "   'lambda_l2': 3.3807038414452943,\n",
       "   'n_estimators': 99},\n",
       "  'acc': 0.9669333333333333,\n",
       "  'roc_auc': 0.9914161066666667,\n",
       "  'aps': 0.990546015632131},\n",
       " {'model': LGBMClassifier(bagging_fraction=0.464276054501746, bagging_freq=4,\n",
       "                 class_weight='balanced', feature_fraction=0.6787834493733688,\n",
       "                 lambda_l1=0.2922203076605213, lambda_l2=3.3807038414452943,\n",
       "                 learning_rate=0.4927126460889275, max_depth=3, n_estimators=99,\n",
       "                 num_leaves=29, random_state=241),\n",
       "  'name': 'boosting',\n",
       "  'params': {'class_weight': 'balanced',\n",
       "   'random_state': 241,\n",
       "   'boosting_type': 'gbdt',\n",
       "   'max_depth': 3,\n",
       "   'num_leaves': 29,\n",
       "   'learning_rate': 0.4927126460889275,\n",
       "   'feature_fraction': 0.6787834493733688,\n",
       "   'bagging_fraction': 0.464276054501746,\n",
       "   'bagging_freq': 4,\n",
       "   'lambda_l1': 0.2922203076605213,\n",
       "   'lambda_l2': 3.3807038414452943,\n",
       "   'n_estimators': 99},\n",
       "  'acc': 0.9601333333333333,\n",
       "  'roc_auc': 0.9897546666666667,\n",
       "  'aps': 0.987821544498948},\n",
       " {'model': LGBMClassifier(bagging_fraction=0.464276054501746, bagging_freq=4,\n",
       "                 class_weight='balanced', feature_fraction=0.6787834493733688,\n",
       "                 lambda_l1=0.2922203076605213, lambda_l2=3.3807038414452943,\n",
       "                 learning_rate=0.4927126460889275, max_depth=3, n_estimators=99,\n",
       "                 num_leaves=29, random_state=241),\n",
       "  'name': 'boosting',\n",
       "  'params': {'class_weight': 'balanced',\n",
       "   'random_state': 241,\n",
       "   'boosting_type': 'gbdt',\n",
       "   'max_depth': 3,\n",
       "   'num_leaves': 29,\n",
       "   'learning_rate': 0.4927126460889275,\n",
       "   'feature_fraction': 0.6787834493733688,\n",
       "   'bagging_fraction': 0.464276054501746,\n",
       "   'bagging_freq': 4,\n",
       "   'lambda_l1': 0.2922203076605213,\n",
       "   'lambda_l2': 3.3807038414452943,\n",
       "   'n_estimators': 99},\n",
       "  'acc': 0.9601333333333333,\n",
       "  'roc_auc': 0.9897546666666667,\n",
       "  'aps': 0.987821544498948}]"
      ]
     },
     "execution_count": 24,
     "metadata": {},
     "output_type": "execute_result"
    }
   ],
   "source": [
    "resp = requests.get(\"http://localhost:5000/api/ml_models\")\n",
    "eval(eval(resp.text))"
   ]
  },
  {
   "cell_type": "code",
   "execution_count": 25,
   "id": "c3831824",
   "metadata": {},
   "outputs": [
    {
     "data": {
      "text/plain": [
       "['logreg', 'forest', 'boosting']"
      ]
     },
     "execution_count": 25,
     "metadata": {},
     "output_type": "execute_result"
    }
   ],
   "source": [
    "resp = requests.get(\"http://localhost:5000/api/ml_models/can_train\")\n",
    "eval(resp.text)"
   ]
  },
  {
   "cell_type": "code",
   "execution_count": 26,
   "id": "9b014cc0",
   "metadata": {},
   "outputs": [
    {
     "data": {
      "text/plain": [
       "5"
      ]
     },
     "execution_count": 26,
     "metadata": {},
     "output_type": "execute_result"
    }
   ],
   "source": [
    "resp = requests.get(\"http://localhost:5000/api/ml_models/count\")\n",
    "eval(resp.text)"
   ]
  },
  {
   "cell_type": "markdown",
   "id": "acd7ddc1",
   "metadata": {},
   "source": [
    "\n",
    "**Обучение модели:**\n",
    "\n",
    "    1 - Проверить что класс обучает логрег, форест, бустинг при подаче train, test данных\n",
    "    2 - Проверить, что класс обучает модели без test данных\n",
    "    3 - Проверить, что класс обучает модель с заданными параметрами\n",
    "    4 - Проверить, что класс подбирает гиперпараметры если задать пороги\n",
    "    5 - Проверить, что класс подбирает гиперпараметры если не задавать пороги\n"
   ]
  },
  {
   "cell_type": "markdown",
   "id": "6a0fff20",
   "metadata": {},
   "source": [
    "**1 - Проверить что класс обучает логрег, форест, бустинг при подаче train, test данных**\n",
    "    "
   ]
  },
  {
   "cell_type": "code",
   "execution_count": 27,
   "id": "cc7f6fd3",
   "metadata": {},
   "outputs": [],
   "source": [
    "resp = requests.post(\"http://localhost:5000/api/ml_models/train\", data = {'train': train.to_json(), \n",
    "                                                                          'y_train': y_train.to_json(), \n",
    "                                                                          'test': test.to_json(), \n",
    "                                                                          'y_test': y_test.to_json(),\n",
    "                                                                          'name': 'forest'})\n",
    "\n",
    "resp = requests.post(\"http://localhost:5000/api/ml_models/train\", data = {'train': train.to_json(), \n",
    "                                                                          'y_train': y_train.to_json(), \n",
    "                                                                          'test': test.to_json(), \n",
    "                                                                          'y_test': y_test.to_json(),\n",
    "                                                                          'name': 'logreg'})\n",
    "\n",
    "resp = requests.post(\"http://localhost:5000/api/ml_models/train\", data = {'train': train.to_json(), \n",
    "                                                                          'y_train': y_train.to_json(), \n",
    "                                                                          'test': test.to_json(), \n",
    "                                                                          'y_test': y_test.to_json(),\n",
    "                                                                          'name': 'boosting'})"
   ]
  },
  {
   "cell_type": "code",
   "execution_count": 28,
   "id": "24d9804f",
   "metadata": {},
   "outputs": [
    {
     "data": {
      "text/plain": [
       "{'message': \"'Data and Target shapes are not equal!'. You have requested this URI [/api/ml_models/train] but did you mean /api/ml_models/train or /api/ml_models/can_train or /api/ml_models/<int:id> ?\"}"
      ]
     },
     "execution_count": 28,
     "metadata": {},
     "output_type": "execute_result"
    }
   ],
   "source": [
    "resp = requests.post(\"http://localhost:5000/api/ml_models/train\", data = {'train': train.to_json(), \n",
    "                                                                          'y_train': y_test.to_json(), \n",
    "                                                                          'name': 'logreg'})\n",
    "eval(resp.text)"
   ]
  },
  {
   "cell_type": "code",
   "execution_count": 29,
   "id": "ef41fb00",
   "metadata": {},
   "outputs": [
    {
     "data": {
      "text/plain": [
       "{'acc': 0.84, 'roc_auc': 0.9200587263275496, 'aps': 0.9262793561000334}"
      ]
     },
     "execution_count": 29,
     "metadata": {},
     "output_type": "execute_result"
    }
   ],
   "source": [
    "resp = requests.post(\"http://localhost:5000/api/ml_models/train\", data = {'train': train.to_json(), \n",
    "                                                                          'y_train': y_train.to_json(), \n",
    "                                                                          'name': 'logreg'})\n",
    "eval(resp.text)"
   ]
  },
  {
   "cell_type": "code",
   "execution_count": null,
   "id": "0d05164d",
   "metadata": {},
   "outputs": [],
   "source": []
  },
  {
   "cell_type": "code",
   "execution_count": 30,
   "id": "add2de65",
   "metadata": {
    "scrolled": true
   },
   "outputs": [],
   "source": [
    "resp = requests.get(\"http://localhost:5000/api/ml_models\")\n",
    "res = eval(eval(resp.text))"
   ]
  },
  {
   "cell_type": "code",
   "execution_count": 31,
   "id": "3a8c618b",
   "metadata": {},
   "outputs": [
    {
     "data": {
      "text/plain": [
       "[{'model': LogisticRegression(class_weight='balanced', random_state=241,\n",
       "                     solver='liblinear'),\n",
       "  'name': 'logreg',\n",
       "  'params': {'class_weight': 'balanced',\n",
       "   'random_state': 241,\n",
       "   'penalty': 'l2',\n",
       "   'solver': 'liblinear'},\n",
       "  'acc': 0.87,\n",
       "  'roc_auc': 0.9424469333333333,\n",
       "  'aps': 0.9429199180290935},\n",
       " {'model': LGBMClassifier(class_weight='balanced', random_state=241),\n",
       "  'name': 'boosting',\n",
       "  'params': {'class_weight': 'balanced',\n",
       "   'random_state': 241,\n",
       "   'boosting_type': 'gbdt',\n",
       "   'max_depth': 3,\n",
       "   'num_leaves': 29,\n",
       "   'learning_rate': 0.4927126460889275,\n",
       "   'feature_fraction': 0.6787834493733688,\n",
       "   'bagging_fraction': 0.464276054501746,\n",
       "   'bagging_freq': 4,\n",
       "   'lambda_l1': 0.2922203076605213,\n",
       "   'lambda_l2': 3.3807038414452943,\n",
       "   'n_estimators': 99},\n",
       "  'acc': 0.9669333333333333,\n",
       "  'roc_auc': 0.9914161066666667,\n",
       "  'aps': 0.990546015632131},\n",
       " {'model': LGBMClassifier(class_weight='balanced', random_state=241),\n",
       "  'name': 'boosting',\n",
       "  'params': {'class_weight': 'balanced',\n",
       "   'random_state': 241,\n",
       "   'boosting_type': 'gbdt',\n",
       "   'max_depth': 3,\n",
       "   'num_leaves': 29,\n",
       "   'learning_rate': 0.4927126460889275,\n",
       "   'feature_fraction': 0.6787834493733688,\n",
       "   'bagging_fraction': 0.464276054501746,\n",
       "   'bagging_freq': 4,\n",
       "   'lambda_l1': 0.2922203076605213,\n",
       "   'lambda_l2': 3.3807038414452943,\n",
       "   'n_estimators': 99},\n",
       "  'acc': 0.9669333333333333,\n",
       "  'roc_auc': 0.9914161066666667,\n",
       "  'aps': 0.990546015632131},\n",
       " {'model': LGBMClassifier(bagging_fraction=0.464276054501746, bagging_freq=4,\n",
       "                 class_weight='balanced', feature_fraction=0.6787834493733688,\n",
       "                 lambda_l1=0.2922203076605213, lambda_l2=3.3807038414452943,\n",
       "                 learning_rate=0.4927126460889275, max_depth=3, n_estimators=99,\n",
       "                 num_leaves=29, random_state=241),\n",
       "  'name': 'boosting',\n",
       "  'params': {'class_weight': 'balanced',\n",
       "   'random_state': 241,\n",
       "   'boosting_type': 'gbdt',\n",
       "   'max_depth': 3,\n",
       "   'num_leaves': 29,\n",
       "   'learning_rate': 0.4927126460889275,\n",
       "   'feature_fraction': 0.6787834493733688,\n",
       "   'bagging_fraction': 0.464276054501746,\n",
       "   'bagging_freq': 4,\n",
       "   'lambda_l1': 0.2922203076605213,\n",
       "   'lambda_l2': 3.3807038414452943,\n",
       "   'n_estimators': 99},\n",
       "  'acc': 0.9601333333333333,\n",
       "  'roc_auc': 0.9897546666666667,\n",
       "  'aps': 0.987821544498948},\n",
       " {'model': LGBMClassifier(bagging_fraction=0.464276054501746, bagging_freq=4,\n",
       "                 class_weight='balanced', feature_fraction=0.6787834493733688,\n",
       "                 lambda_l1=0.2922203076605213, lambda_l2=3.3807038414452943,\n",
       "                 learning_rate=0.4927126460889275, max_depth=3, n_estimators=99,\n",
       "                 num_leaves=29, random_state=241),\n",
       "  'name': 'boosting',\n",
       "  'params': {'class_weight': 'balanced',\n",
       "   'random_state': 241,\n",
       "   'boosting_type': 'gbdt',\n",
       "   'max_depth': 3,\n",
       "   'num_leaves': 29,\n",
       "   'learning_rate': 0.4927126460889275,\n",
       "   'feature_fraction': 0.6787834493733688,\n",
       "   'bagging_fraction': 0.464276054501746,\n",
       "   'bagging_freq': 4,\n",
       "   'lambda_l1': 0.2922203076605213,\n",
       "   'lambda_l2': 3.3807038414452943,\n",
       "   'n_estimators': 99},\n",
       "  'acc': 0.9601333333333333,\n",
       "  'roc_auc': 0.9897546666666667,\n",
       "  'aps': 0.987821544498948},\n",
       " {'model': RandomForestClassifier(class_weight='balanced', random_state=241),\n",
       "  'name': 'forest',\n",
       "  'params': {'class_weight': 'balanced', 'random_state': 241},\n",
       "  'acc': 0.9316,\n",
       "  'roc_auc': 0.9833570773941182,\n",
       "  'aps': 0.9817997334161295},\n",
       " {'model': LogisticRegression(class_weight='balanced', random_state=241,\n",
       "                     solver='liblinear'),\n",
       "  'name': 'logreg',\n",
       "  'params': {'class_weight': 'balanced',\n",
       "   'random_state': 241,\n",
       "   'penalty': 'l2',\n",
       "   'solver': 'liblinear'},\n",
       "  'acc': 0.8328,\n",
       "  'roc_auc': 0.918555951503236,\n",
       "  'aps': 0.9263447522435303},\n",
       " {'model': LGBMClassifier(bagging_fraction=0.464276054501746, bagging_freq=4,\n",
       "                 class_weight='balanced', feature_fraction=0.6787834493733688,\n",
       "                 lambda_l1=0.2922203076605213, lambda_l2=3.3807038414452943,\n",
       "                 learning_rate=0.4927126460889275, max_depth=3, n_estimators=99,\n",
       "                 num_leaves=29, random_state=241),\n",
       "  'name': 'boosting',\n",
       "  'params': {'class_weight': 'balanced',\n",
       "   'random_state': 241,\n",
       "   'boosting_type': 'gbdt',\n",
       "   'max_depth': 3,\n",
       "   'num_leaves': 29,\n",
       "   'learning_rate': 0.4927126460889275,\n",
       "   'feature_fraction': 0.6787834493733688,\n",
       "   'bagging_fraction': 0.464276054501746,\n",
       "   'bagging_freq': 4,\n",
       "   'lambda_l1': 0.2922203076605213,\n",
       "   'lambda_l2': 3.3807038414452943,\n",
       "   'n_estimators': 99},\n",
       "  'acc': 0.9372,\n",
       "  'roc_auc': 0.9843596399606783,\n",
       "  'aps': 0.98351041338492},\n",
       " {'model': LogisticRegression(class_weight='balanced', random_state=241,\n",
       "                     solver='liblinear'),\n",
       "  'name': 'logreg',\n",
       "  'params': {'class_weight': 'balanced',\n",
       "   'random_state': 241,\n",
       "   'penalty': 'l2',\n",
       "   'solver': 'liblinear'},\n",
       "  'acc': 0.84,\n",
       "  'roc_auc': 0.9200587263275496,\n",
       "  'aps': 0.9262793561000334}]"
      ]
     },
     "execution_count": 31,
     "metadata": {},
     "output_type": "execute_result"
    }
   ],
   "source": [
    "res"
   ]
  },
  {
   "cell_type": "code",
   "execution_count": 32,
   "id": "4090f3f5",
   "metadata": {},
   "outputs": [
    {
     "data": {
      "text/plain": [
       "9"
      ]
     },
     "execution_count": 32,
     "metadata": {},
     "output_type": "execute_result"
    }
   ],
   "source": [
    "resp = requests.get(\"http://localhost:5000/api/ml_models/count\")\n",
    "eval(resp.text)"
   ]
  },
  {
   "cell_type": "code",
   "execution_count": 33,
   "id": "12a6ab3d",
   "metadata": {},
   "outputs": [
    {
     "data": {
      "text/plain": [
       "'[]'"
      ]
     },
     "execution_count": 33,
     "metadata": {},
     "output_type": "execute_result"
    }
   ],
   "source": [
    "resp = requests.delete(\"http://localhost:5000/api/ml_models\")\n",
    "resp = requests.get(\"http://localhost:5000/api/ml_models\")\n",
    "eval(resp.text)"
   ]
  },
  {
   "cell_type": "markdown",
   "id": "076fb201",
   "metadata": {},
   "source": [
    "**2 - Проверить, что класс обучает модели без test данных**"
   ]
  },
  {
   "cell_type": "code",
   "execution_count": 34,
   "id": "230b6f3b",
   "metadata": {},
   "outputs": [],
   "source": [
    "resp = requests.post(\"http://localhost:5000/api/ml_models/train\", data = {'train': train.to_json(), \n",
    "                                                                          'y_train': y_train.to_json(), \n",
    "                                                                          'name': 'forest'})\n",
    "\n",
    "resp = requests.post(\"http://localhost:5000/api/ml_models/train\", data = {'train': train.to_json(), \n",
    "                                                                          'y_train': y_train.to_json(), \n",
    "                                                                          'name': 'logreg'})\n",
    "\n",
    "resp = requests.post(\"http://localhost:5000/api/ml_models/train\", data = {'train': train.to_json(), \n",
    "                                                                          'y_train': y_train.to_json(), \n",
    "                                                                          'name': 'boosting'})"
   ]
  },
  {
   "cell_type": "code",
   "execution_count": null,
   "id": "f900eef7",
   "metadata": {},
   "outputs": [],
   "source": []
  },
  {
   "cell_type": "code",
   "execution_count": 35,
   "id": "a520f8ff",
   "metadata": {},
   "outputs": [
    {
     "name": "stdout",
     "output_type": "stream",
     "text": [
      "{\"acc\": 0.9338666666666667, \"roc_auc\": 0.9802291870675366, \"aps\": 0.9793846749423295}\n",
      "\n"
     ]
    }
   ],
   "source": [
    "resp = requests.put(\"http://localhost:5000/api/ml_models/0\", data = {'train': train.to_json(), \n",
    "                                                                          'y_train': y_train.to_json(), \n",
    "                                                                          'name': 'boosting'})\n",
    "print(resp.text)"
   ]
  },
  {
   "cell_type": "code",
   "execution_count": 36,
   "id": "995270ab",
   "metadata": {
    "scrolled": true
   },
   "outputs": [
    {
     "data": {
      "text/plain": [
       "\"{'model': RandomForestClassifier(class_weight='balanced', random_state=241), 'name': 'forest', 'params': {'class_weight': 'balanced', 'random_state': 241}, 'acc': 0.9338666666666667, 'roc_auc': 0.9802291870675366, 'aps': 0.9793846749423295}\""
      ]
     },
     "execution_count": 36,
     "metadata": {},
     "output_type": "execute_result"
    }
   ],
   "source": [
    "resp = requests.get(\"http://localhost:5000/api/ml_models/0\")\n",
    "eval(resp.text)"
   ]
  },
  {
   "cell_type": "code",
   "execution_count": 37,
   "id": "d84efd9b",
   "metadata": {},
   "outputs": [
    {
     "data": {
      "text/plain": [
       "3"
      ]
     },
     "execution_count": 37,
     "metadata": {},
     "output_type": "execute_result"
    }
   ],
   "source": [
    "resp = requests.get(\"http://localhost:5000/api/ml_models/count\")\n",
    "eval(resp.text)"
   ]
  },
  {
   "cell_type": "code",
   "execution_count": 38,
   "id": "8a525d66",
   "metadata": {},
   "outputs": [],
   "source": [
    "resp = requests.delete(\"http://localhost:5000/api/ml_models/1\")"
   ]
  },
  {
   "cell_type": "code",
   "execution_count": 39,
   "id": "bbc528cd",
   "metadata": {},
   "outputs": [
    {
     "data": {
      "text/plain": [
       "'[]'"
      ]
     },
     "execution_count": 39,
     "metadata": {},
     "output_type": "execute_result"
    }
   ],
   "source": [
    "resp = requests.delete(\"http://localhost:5000/api/ml_models\")\n",
    "resp = requests.get(\"http://localhost:5000/api/ml_models\")\n",
    "eval(resp.text)"
   ]
  },
  {
   "cell_type": "markdown",
   "id": "b11c87bb",
   "metadata": {},
   "source": [
    "**3 - Проверить, что класс обучает модель с заданными параметрами**"
   ]
  },
  {
   "cell_type": "code",
   "execution_count": 40,
   "id": "159dd21c",
   "metadata": {},
   "outputs": [],
   "source": [
    "resp = requests.post(\"http://localhost:5000/api/ml_models/train\", data = {'train': train.to_json(), \n",
    "                                                                          'y_train': y_train.to_json(), \n",
    "                                                                          'name': 'forest',\n",
    "                                                                          'params': str({'max_depth':1})})\n",
    "\n",
    "resp = requests.post(\"http://localhost:5000/api/ml_models/train\", data = {'train': train.to_json(), \n",
    "                                                                          'y_train': y_train.to_json(), \n",
    "                                                                          'name': 'logreg',\n",
    "                                                                          'params': str({'C': 0.000000000000000000001})})\n",
    "\n",
    "resp = requests.post(\"http://localhost:5000/api/ml_models/train\", data = {'train': train.to_json(), \n",
    "                                                                          'y_train': y_train.to_json(), \n",
    "                                                                          'name': 'boosting',\n",
    "                                                                          'params': str({'n_estimators': 1, 'max_depth': 2})})"
   ]
  },
  {
   "cell_type": "code",
   "execution_count": 41,
   "id": "7e7cdb18",
   "metadata": {
    "scrolled": true
   },
   "outputs": [
    {
     "data": {
      "text/plain": [
       "\"[{'model': RandomForestClassifier(class_weight='balanced', max_depth=1, random_state=241), 'name': 'forest', 'params': {'class_weight': 'balanced', 'random_state': 241, 'max_depth': 1}, 'acc': 0.7792, 'roc_auc': 0.8692005005137649, 'aps': 0.875303997393131}, {'model': LogisticRegression(C=1e-21, class_weight='balanced', random_state=241,\\n                   solver='liblinear'), 'name': 'logreg', 'params': {'class_weight': 'balanced', 'random_state': 241, 'penalty': 'l2', 'solver': 'liblinear', 'C': 1e-21}, 'acc': 0.49933333333333335, 'roc_auc': 0.5, 'aps': 0.5006666666666667}, {'model': LGBMClassifier(bagging_fraction=0.464276054501746, bagging_freq=4,\\n               class_weight='balanced', feature_fraction=0.6787834493733688,\\n               lambda_l1=0.2922203076605213, lambda_l2=3.3807038414452943,\\n               learning_rate=0.4927126460889275, max_depth=2, n_estimators=1,\\n               num_leaves=29, random_state=241), 'name': 'boosting', 'params': {'class_weight': 'balanced', 'random_state': 241, 'boosting_type': 'gbdt', 'max_depth': 2, 'num_leaves': 29, 'learning_rate': 0.4927126460889275, 'feature_fraction': 0.6787834493733688, 'bagging_fraction': 0.464276054501746, 'bagging_freq': 4, 'lambda_l1': 0.2922203076605213, 'lambda_l2': 3.3807038414452943, 'n_estimators': 1}, 'acc': 0.6678666666666667, 'roc_auc': 0.7021758495207489, 'aps': 0.6530845981900887}]\""
      ]
     },
     "execution_count": 41,
     "metadata": {},
     "output_type": "execute_result"
    }
   ],
   "source": [
    "resp = requests.get(\"http://localhost:5000/api/ml_models\")\n",
    "eval(resp.text)"
   ]
  },
  {
   "cell_type": "code",
   "execution_count": 42,
   "id": "ecced932",
   "metadata": {},
   "outputs": [
    {
     "data": {
      "text/plain": [
       "3"
      ]
     },
     "execution_count": 42,
     "metadata": {},
     "output_type": "execute_result"
    }
   ],
   "source": [
    "resp = requests.get(\"http://localhost:5000/api/ml_models/count\")\n",
    "eval(resp.text)"
   ]
  },
  {
   "cell_type": "code",
   "execution_count": 43,
   "id": "ce74e75f",
   "metadata": {},
   "outputs": [
    {
     "data": {
      "text/plain": [
       "'[]'"
      ]
     },
     "execution_count": 43,
     "metadata": {},
     "output_type": "execute_result"
    }
   ],
   "source": [
    "resp = requests.delete(\"http://localhost:5000/api/ml_models\")\n",
    "resp = requests.get(\"http://localhost:5000/api/ml_models\")\n",
    "eval(resp.text)"
   ]
  },
  {
   "cell_type": "markdown",
   "id": "dac4821c",
   "metadata": {},
   "source": [
    "**5 - Проверить, что класс подбирает гиперпараметры если не задавать пороги**"
   ]
  },
  {
   "cell_type": "code",
   "execution_count": 44,
   "id": "c2f0ac95",
   "metadata": {},
   "outputs": [],
   "source": [
    "resp = requests.post(\"http://localhost:5000/api/ml_models/train\", data = {'train': train.to_json(), \n",
    "                                                                          'y_train': y_train.to_json(), \n",
    "                                                                          'name': 'forest',\n",
    "                                                                          'find_params': True,\n",
    "                                                                          'n_trials': 20,\n",
    "                                                                          'cv':3})\n",
    "\n",
    "resp = requests.post(\"http://localhost:5000/api/ml_models/train\", data = {'train': train.to_json(), \n",
    "                                                                          'y_train': y_train.to_json(), \n",
    "                                                                          'name': 'logreg',\n",
    "                                                                          'find_params': True,\n",
    "                                                                          'n_trials': 20,\n",
    "                                                                          'cv':3})\n",
    "\n",
    "resp = requests.post(\"http://localhost:5000/api/ml_models/train\", data = {'train': train.to_json(), \n",
    "                                                                          'y_train': y_train.to_json(), \n",
    "                                                                          'name': 'boosting',\n",
    "                                                                          'find_params': True,\n",
    "                                                                          'n_trials': 20,\n",
    "                                                                          'cv':3})"
   ]
  },
  {
   "cell_type": "code",
   "execution_count": 45,
   "id": "7579366e",
   "metadata": {
    "scrolled": true
   },
   "outputs": [
    {
     "data": {
      "text/plain": [
       "[{'model': RandomForestClassifier(class_weight='balanced', max_depth=5,\n",
       "                         max_features=0.2256114488392252, min_samples_leaf=5,\n",
       "                         min_samples_split=16, n_estimators=298,\n",
       "                         random_state=241),\n",
       "  'name': 'forest',\n",
       "  'params': {'class_weight': 'balanced',\n",
       "   'random_state': 241,\n",
       "   'max_depth': 5,\n",
       "   'n_estimators': 298,\n",
       "   'max_features': 0.2256114488392252,\n",
       "   'min_samples_leaf': 5,\n",
       "   'min_samples_split': 16},\n",
       "  'acc': 0.8865333333333334,\n",
       "  'roc_auc': 0.9561846623825306,\n",
       "  'aps': 0.9587438607240264},\n",
       " {'model': LogisticRegression(C=0.09301305904644665, class_weight='balanced', max_iter=498,\n",
       "                     random_state=241, solver='liblinear'),\n",
       "  'name': 'logreg',\n",
       "  'params': {'class_weight': 'balanced',\n",
       "   'random_state': 241,\n",
       "   'penalty': 'l2',\n",
       "   'solver': 'liblinear',\n",
       "   'C': 0.09301305904644665,\n",
       "   'max_iter': 498},\n",
       "  'acc': 0.84,\n",
       "  'roc_auc': 0.9200975530633023,\n",
       "  'aps': 0.9262907361700695},\n",
       " {'model': LGBMClassifier(bagging_fraction=0.775328805380499, bagging_freq=3,\n",
       "                 class_weight='balanced', feature_fraction=0.8438305045696319,\n",
       "                 lambda_l1=8.357487256149565, lambda_l2=0.9797841580012189,\n",
       "                 learning_rate=0.4537651216310282, max_depth=3, n_estimators=53,\n",
       "                 num_leaves=40, random_state=241),\n",
       "  'name': 'boosting',\n",
       "  'params': {'class_weight': 'balanced',\n",
       "   'random_state': 241,\n",
       "   'boosting_type': 'gbdt',\n",
       "   'max_depth': 3,\n",
       "   'num_leaves': 40,\n",
       "   'learning_rate': 0.4537651216310282,\n",
       "   'feature_fraction': 0.8438305045696319,\n",
       "   'bagging_fraction': 0.775328805380499,\n",
       "   'bagging_freq': 3,\n",
       "   'lambda_l1': 8.357487256149565,\n",
       "   'lambda_l2': 0.9797841580012189,\n",
       "   'n_estimators': 53},\n",
       "  'acc': 0.9257333333333334,\n",
       "  'roc_auc': 0.9767182467987031,\n",
       "  'aps': 0.9770142483006649}]"
      ]
     },
     "execution_count": 45,
     "metadata": {},
     "output_type": "execute_result"
    }
   ],
   "source": [
    "resp = requests.get(\"http://localhost:5000/api/ml_models\")\n",
    "eval(eval(resp.text))"
   ]
  },
  {
   "cell_type": "code",
   "execution_count": 46,
   "id": "cf480096",
   "metadata": {},
   "outputs": [
    {
     "data": {
      "text/plain": [
       "3"
      ]
     },
     "execution_count": 46,
     "metadata": {},
     "output_type": "execute_result"
    }
   ],
   "source": [
    "resp = requests.get(\"http://localhost:5000/api/ml_models/count\")\n",
    "eval(resp.text)"
   ]
  },
  {
   "cell_type": "code",
   "execution_count": 47,
   "id": "6ada1067",
   "metadata": {},
   "outputs": [
    {
     "data": {
      "text/plain": [
       "'[]'"
      ]
     },
     "execution_count": 47,
     "metadata": {},
     "output_type": "execute_result"
    }
   ],
   "source": [
    "resp = requests.delete(\"http://localhost:5000/api/ml_models\")\n",
    "resp = requests.get(\"http://localhost:5000/api/ml_models\")\n",
    "eval(resp.text)"
   ]
  },
  {
   "cell_type": "markdown",
   "id": "ffb238c9",
   "metadata": {},
   "source": [
    "Если не подавать n_trials и cv"
   ]
  },
  {
   "cell_type": "code",
   "execution_count": 48,
   "id": "e5025cf2",
   "metadata": {},
   "outputs": [],
   "source": [
    "resp = requests.post(\"http://localhost:5000/api/ml_models/train\", data = {'train': train.to_json(), \n",
    "                                                                          'y_train': y_train.to_json(), \n",
    "                                                                          'name': 'forest',\n",
    "                                                                          'find_params': True})\n",
    "\n",
    "resp = requests.post(\"http://localhost:5000/api/ml_models/train\", data = {'train': train.to_json(), \n",
    "                                                                          'y_train': y_train.to_json(), \n",
    "                                                                          'name': 'logreg',\n",
    "                                                                          'find_params': True})\n",
    "\n",
    "resp = requests.post(\"http://localhost:5000/api/ml_models/train\", data = {'train': train.to_json(), \n",
    "                                                                          'y_train': y_train.to_json(), \n",
    "                                                                          'name': 'boosting',\n",
    "                                                                          'find_params': True})"
   ]
  },
  {
   "cell_type": "code",
   "execution_count": 49,
   "id": "42885f87",
   "metadata": {
    "scrolled": true
   },
   "outputs": [
    {
     "data": {
      "text/plain": [
       "[{'model': RandomForestClassifier(class_weight='balanced', max_depth=5,\n",
       "                         max_features=0.2371006301801221, min_samples_leaf=6,\n",
       "                         min_samples_split=18, n_estimators=121,\n",
       "                         random_state=241),\n",
       "  'name': 'forest',\n",
       "  'params': {'class_weight': 'balanced',\n",
       "   'random_state': 241,\n",
       "   'max_depth': 5,\n",
       "   'n_estimators': 121,\n",
       "   'max_features': 0.2371006301801221,\n",
       "   'min_samples_leaf': 6,\n",
       "   'min_samples_split': 18},\n",
       "  'acc': 0.8850666666666666,\n",
       "  'roc_auc': 0.9551107402448231,\n",
       "  'aps': 0.9573543051763614},\n",
       " {'model': LogisticRegression(C=0.08746868238062447, class_weight='balanced', max_iter=148,\n",
       "                     random_state=241, solver='liblinear'),\n",
       "  'name': 'logreg',\n",
       "  'params': {'class_weight': 'balanced',\n",
       "   'random_state': 241,\n",
       "   'penalty': 'l2',\n",
       "   'solver': 'liblinear',\n",
       "   'C': 0.08746868238062447,\n",
       "   'max_iter': 148},\n",
       "  'acc': 0.8397333333333332,\n",
       "  'roc_auc': 0.920097766393905,\n",
       "  'aps': 0.9262785722644472},\n",
       " {'model': LGBMClassifier(bagging_fraction=0.7820126726297999, bagging_freq=7,\n",
       "                 class_weight='balanced', feature_fraction=0.5562091346313863,\n",
       "                 lambda_l1=1.4913017846985737, lambda_l2=3.9145875263870145,\n",
       "                 learning_rate=0.49378613708286534, max_depth=3, n_estimators=92,\n",
       "                 num_leaves=122, random_state=241),\n",
       "  'name': 'boosting',\n",
       "  'params': {'class_weight': 'balanced',\n",
       "   'random_state': 241,\n",
       "   'boosting_type': 'gbdt',\n",
       "   'max_depth': 3,\n",
       "   'num_leaves': 122,\n",
       "   'learning_rate': 0.49378613708286534,\n",
       "   'feature_fraction': 0.5562091346313863,\n",
       "   'bagging_fraction': 0.7820126726297999,\n",
       "   'bagging_freq': 7,\n",
       "   'lambda_l1': 1.4913017846985737,\n",
       "   'lambda_l2': 3.9145875263870145,\n",
       "   'n_estimators': 92},\n",
       "  'acc': 0.9366666666666666,\n",
       "  'roc_auc': 0.9827764984743785,\n",
       "  'aps': 0.9828588871678967}]"
      ]
     },
     "execution_count": 49,
     "metadata": {},
     "output_type": "execute_result"
    }
   ],
   "source": [
    "resp = requests.get(\"http://localhost:5000/api/ml_models\")\n",
    "eval(eval(resp.text))"
   ]
  },
  {
   "cell_type": "code",
   "execution_count": 50,
   "id": "4f6be836",
   "metadata": {},
   "outputs": [
    {
     "data": {
      "text/plain": [
       "3"
      ]
     },
     "execution_count": 50,
     "metadata": {},
     "output_type": "execute_result"
    }
   ],
   "source": [
    "resp = requests.get(\"http://localhost:5000/api/ml_models/count\")\n",
    "eval(resp.text)"
   ]
  },
  {
   "cell_type": "code",
   "execution_count": 51,
   "id": "37cd029f",
   "metadata": {},
   "outputs": [
    {
     "data": {
      "text/plain": [
       "'[]'"
      ]
     },
     "execution_count": 51,
     "metadata": {},
     "output_type": "execute_result"
    }
   ],
   "source": [
    "resp = requests.delete(\"http://localhost:5000/api/ml_models\")\n",
    "resp = requests.get(\"http://localhost:5000/api/ml_models\")\n",
    "eval(resp.text)"
   ]
  },
  {
   "cell_type": "markdown",
   "id": "a07607bf",
   "metadata": {},
   "source": [
    "**4 - Проверить, что класс подбирает гиперпараметры если задавать пороги**"
   ]
  },
  {
   "cell_type": "code",
   "execution_count": 52,
   "id": "7282b642",
   "metadata": {},
   "outputs": [],
   "source": [
    "resp = requests.post(\"http://localhost:5000/api/ml_models/train\", data = {'train': train.to_json(), \n",
    "                                                                          'y_train': y_train.to_json(), \n",
    "                                                                          'name': 'forest',\n",
    "                                                                          'find_params': True,\n",
    "                                                                          'n_trials': 5,\n",
    "                                                                          'cv':3, \n",
    "                                                                          'config': str({'max_depth': [2, 10],\n",
    "                                                                                         'n_estimators': 50})})\n"
   ]
  },
  {
   "cell_type": "code",
   "execution_count": 53,
   "id": "ffb494cb",
   "metadata": {},
   "outputs": [],
   "source": [
    "\n",
    "resp = requests.post(\"http://localhost:5000/api/ml_models/train\", data = {'train': train.to_json(), \n",
    "                                                                          'y_train': y_train.to_json(), \n",
    "                                                                          'name': 'logreg',\n",
    "                                                                          'find_params': True,\n",
    "                                                                          'n_trials': 5,\n",
    "                                                                          'cv':3,\n",
    "                                                                          'config': str({'C': [0.05, 4],\n",
    "                                                                                         'max_iter':  100})})\n",
    "\n"
   ]
  },
  {
   "cell_type": "code",
   "execution_count": 54,
   "id": "4d89c2e7",
   "metadata": {},
   "outputs": [],
   "source": [
    "resp = requests.post(\"http://localhost:5000/api/ml_models/train\", data = {'train': train.to_json(), \n",
    "                                                                          'y_train': y_train.to_json(), \n",
    "                                                                          'name': 'boosting',\n",
    "                                                                          'find_params': True,\n",
    "                                                                          'n_trials': 5,\n",
    "                                                                          'cv':3,\n",
    "                                                                          'config': str({'max_depth': [2, 10],\n",
    "                                                                                         'n_estimators': 50})})"
   ]
  },
  {
   "cell_type": "code",
   "execution_count": 55,
   "id": "4ba9b03b",
   "metadata": {
    "scrolled": true
   },
   "outputs": [
    {
     "data": {
      "text/plain": [
       "[{'model': RandomForestClassifier(class_weight='balanced', max_depth=7,\n",
       "                         max_features=0.3660013802263388, min_samples_leaf=5,\n",
       "                         min_samples_split=13, n_estimators=50, random_state=241),\n",
       "  'name': 'forest',\n",
       "  'params': {'class_weight': 'balanced',\n",
       "   'random_state': 241,\n",
       "   'max_depth': 7,\n",
       "   'n_estimators': 50,\n",
       "   'max_features': 0.3660013802263388,\n",
       "   'min_samples_leaf': 5,\n",
       "   'min_samples_split': 13},\n",
       "  'acc': 0.9081333333333333,\n",
       "  'roc_auc': 0.9685898057015224,\n",
       "  'aps': 0.9698199745047384},\n",
       " {'model': LogisticRegression(C=0.0794899926320875, class_weight='balanced',\n",
       "                     random_state=241, solver='liblinear'),\n",
       "  'name': 'logreg',\n",
       "  'params': {'class_weight': 'balanced',\n",
       "   'random_state': 241,\n",
       "   'penalty': 'l2',\n",
       "   'solver': 'liblinear',\n",
       "   'C': 0.0794899926320875,\n",
       "   'max_iter': 100},\n",
       "  'acc': 0.8395999999999999,\n",
       "  'roc_auc': 0.9200905130411838,\n",
       "  'aps': 0.926271530028242},\n",
       " {'model': LGBMClassifier(bagging_fraction=0.8747682554187332, bagging_freq=7,\n",
       "                 class_weight='balanced', feature_fraction=0.8208348915637894,\n",
       "                 lambda_l1=0.8453582876374871, lambda_l2=1.0636830565051674,\n",
       "                 learning_rate=0.3641823228614773, max_depth=5, n_estimators=50,\n",
       "                 num_leaves=125, random_state=241),\n",
       "  'name': 'boosting',\n",
       "  'params': {'class_weight': 'balanced',\n",
       "   'random_state': 241,\n",
       "   'boosting_type': 'gbdt',\n",
       "   'max_depth': 5,\n",
       "   'num_leaves': 125,\n",
       "   'learning_rate': 0.3641823228614773,\n",
       "   'feature_fraction': 0.8208348915637894,\n",
       "   'bagging_fraction': 0.8747682554187332,\n",
       "   'bagging_freq': 7,\n",
       "   'lambda_l1': 0.8453582876374871,\n",
       "   'lambda_l2': 1.0636830565051674,\n",
       "   'n_estimators': 50},\n",
       "  'acc': 0.9405333333333333,\n",
       "  'roc_auc': 0.984500875575768,\n",
       "  'aps': 0.9841608599894313}]"
      ]
     },
     "execution_count": 55,
     "metadata": {},
     "output_type": "execute_result"
    }
   ],
   "source": [
    "resp = requests.get(\"http://localhost:5000/api/ml_models\")\n",
    "eval(eval(resp.text))"
   ]
  },
  {
   "cell_type": "code",
   "execution_count": 56,
   "id": "2f3e5789",
   "metadata": {},
   "outputs": [
    {
     "data": {
      "text/plain": [
       "3"
      ]
     },
     "execution_count": 56,
     "metadata": {},
     "output_type": "execute_result"
    }
   ],
   "source": [
    "resp = requests.get(\"http://localhost:5000/api/ml_models/count\")\n",
    "eval(resp.text)"
   ]
  },
  {
   "cell_type": "code",
   "execution_count": 57,
   "id": "568cb110",
   "metadata": {},
   "outputs": [],
   "source": [
    "resp = requests.delete(\"http://localhost:5000/api/ml_models\")"
   ]
  },
  {
   "cell_type": "code",
   "execution_count": 58,
   "id": "4cfa5d8d",
   "metadata": {},
   "outputs": [
    {
     "data": {
      "text/plain": [
       "'[]'"
      ]
     },
     "execution_count": 58,
     "metadata": {},
     "output_type": "execute_result"
    }
   ],
   "source": [
    "resp = requests.get(\"http://localhost:5000/api/ml_models\")\n",
    "eval(resp.text)"
   ]
  },
  {
   "cell_type": "markdown",
   "id": "668d630b",
   "metadata": {},
   "source": [
    "Если не подавать n_trials и cv"
   ]
  },
  {
   "cell_type": "code",
   "execution_count": 59,
   "id": "847b47fb",
   "metadata": {},
   "outputs": [],
   "source": [
    "resp = requests.post(\"http://localhost:5000/api/ml_models/train\", data = {'train': train.to_json(), \n",
    "                                                                          'y_train': y_train.to_json(), \n",
    "                                                                          'name': 'forest',\n",
    "                                                                          'find_params': True,\n",
    "                                                                          'n_trials': 5,\n",
    "                                                                          'config': str({'max_depth': [2, 10],\n",
    "                                                                                         'n_estimators': 50})})\n",
    "\n"
   ]
  },
  {
   "cell_type": "code",
   "execution_count": 60,
   "id": "6c34a663",
   "metadata": {},
   "outputs": [],
   "source": [
    "resp = requests.post(\"http://localhost:5000/api/ml_models/train\", data = {'train': train.to_json(), \n",
    "                                                                          'y_train': y_train.to_json(), \n",
    "                                                                          'name': 'logreg',\n",
    "                                                                          'find_params': True,\n",
    "                                                                          'n_trials': 5,\n",
    "                                                                          'config': str({'C': [0.05, 4],\n",
    "                                                                                         'max_iter':  100})})\n",
    "\n"
   ]
  },
  {
   "cell_type": "code",
   "execution_count": 61,
   "id": "8cc75858",
   "metadata": {},
   "outputs": [],
   "source": [
    "resp = requests.post(\"http://localhost:5000/api/ml_models/train\", data = {'train': train.to_json(), \n",
    "                                                                          'y_train': y_train.to_json(), \n",
    "                                                                          'name': 'boosting',\n",
    "                                                                          'find_params': True,\n",
    "                                                                          'n_trials': 5,\n",
    "                                                                          'config': str({'max_depth': [2, 10],\n",
    "                                                                                         'n_estimators': 50})})"
   ]
  },
  {
   "cell_type": "code",
   "execution_count": 62,
   "id": "45f4c2bf",
   "metadata": {
    "scrolled": true
   },
   "outputs": [
    {
     "data": {
      "text/plain": [
       "[{'model': RandomForestClassifier(class_weight='balanced', max_depth=9,\n",
       "                         max_features=0.4309225574817681, min_samples_leaf=9,\n",
       "                         min_samples_split=14, n_estimators=50, random_state=241),\n",
       "  'name': 'forest',\n",
       "  'params': {'class_weight': 'balanced',\n",
       "   'random_state': 241,\n",
       "   'max_depth': 9,\n",
       "   'n_estimators': 50,\n",
       "   'max_features': 0.4309225574817681,\n",
       "   'min_samples_leaf': 9,\n",
       "   'min_samples_split': 14},\n",
       "  'acc': 0.9166666666666666,\n",
       "  'roc_auc': 0.9732229871794972,\n",
       "  'aps': 0.9728394827982721},\n",
       " {'model': LogisticRegression(C=0.24133472772369527, class_weight='balanced',\n",
       "                     random_state=241, solver='liblinear'),\n",
       "  'name': 'logreg',\n",
       "  'params': {'class_weight': 'balanced',\n",
       "   'random_state': 241,\n",
       "   'penalty': 'l2',\n",
       "   'solver': 'liblinear',\n",
       "   'C': 0.24133472772369527,\n",
       "   'max_iter': 100},\n",
       "  'acc': 0.84,\n",
       "  'roc_auc': 0.9200728063635945,\n",
       "  'aps': 0.9262890250682979},\n",
       " {'model': LGBMClassifier(bagging_fraction=0.7551823536996286, bagging_freq=2,\n",
       "                 class_weight='balanced', feature_fraction=0.9213652269521002,\n",
       "                 lambda_l1=0.22367834964965042, lambda_l2=0.860558090846042,\n",
       "                 learning_rate=0.17312325055434133, max_depth=10, n_estimators=50,\n",
       "                 num_leaves=43, random_state=241),\n",
       "  'name': 'boosting',\n",
       "  'params': {'class_weight': 'balanced',\n",
       "   'random_state': 241,\n",
       "   'boosting_type': 'gbdt',\n",
       "   'max_depth': 10,\n",
       "   'num_leaves': 43,\n",
       "   'learning_rate': 0.17312325055434133,\n",
       "   'feature_fraction': 0.9213652269521002,\n",
       "   'bagging_fraction': 0.7551823536996286,\n",
       "   'bagging_freq': 2,\n",
       "   'lambda_l1': 0.22367834964965042,\n",
       "   'lambda_l2': 0.860558090846042,\n",
       "   'n_estimators': 50},\n",
       "  'acc': 0.9433333333333334,\n",
       "  'roc_auc': 0.9847404494515496,\n",
       "  'aps': 0.9841055035833781}]"
      ]
     },
     "execution_count": 62,
     "metadata": {},
     "output_type": "execute_result"
    }
   ],
   "source": [
    "resp = requests.get(\"http://localhost:5000/api/ml_models\")\n",
    "eval(eval(resp.text))"
   ]
  },
  {
   "cell_type": "code",
   "execution_count": 63,
   "id": "fe319b6b",
   "metadata": {},
   "outputs": [
    {
     "data": {
      "text/plain": [
       "3"
      ]
     },
     "execution_count": 63,
     "metadata": {},
     "output_type": "execute_result"
    }
   ],
   "source": [
    "resp = requests.get(\"http://localhost:5000/api/ml_models/count\")\n",
    "eval(resp.text)"
   ]
  },
  {
   "cell_type": "code",
   "execution_count": 64,
   "id": "956e74b5",
   "metadata": {
    "scrolled": true
   },
   "outputs": [
    {
     "data": {
      "text/plain": [
       "\"[{'model': RandomForestClassifier(class_weight='balanced', max_depth=9,\\n                       max_features=0.4309225574817681, min_samples_leaf=9,\\n                       min_samples_split=14, n_estimators=50, random_state=241), 'name': 'forest', 'params': {'class_weight': 'balanced', 'random_state': 241, 'max_depth': 9, 'n_estimators': 50, 'max_features': 0.4309225574817681, 'min_samples_leaf': 9, 'min_samples_split': 14}, 'acc': 0.9166666666666666, 'roc_auc': 0.9732229871794972, 'aps': 0.9728394827982721}, {'model': LogisticRegression(C=0.24133472772369527, class_weight='balanced',\\n                   random_state=241, solver='liblinear'), 'name': 'logreg', 'params': {'class_weight': 'balanced', 'random_state': 241, 'penalty': 'l2', 'solver': 'liblinear', 'C': 0.24133472772369527, 'max_iter': 100}, 'acc': 0.84, 'roc_auc': 0.9200728063635945, 'aps': 0.9262890250682979}, {'model': LGBMClassifier(bagging_fraction=0.7551823536996286, bagging_freq=2,\\n               class_weight='balanced', feature_fraction=0.9213652269521002,\\n               lambda_l1=0.22367834964965042, lambda_l2=0.860558090846042,\\n               learning_rate=0.17312325055434133, max_depth=10, n_estimators=50,\\n               num_leaves=43, random_state=241), 'name': 'boosting', 'params': {'class_weight': 'balanced', 'random_state': 241, 'boosting_type': 'gbdt', 'max_depth': 10, 'num_leaves': 43, 'learning_rate': 0.17312325055434133, 'feature_fraction': 0.9213652269521002, 'bagging_fraction': 0.7551823536996286, 'bagging_freq': 2, 'lambda_l1': 0.22367834964965042, 'lambda_l2': 0.860558090846042, 'n_estimators': 50}, 'acc': 0.9433333333333334, 'roc_auc': 0.9847404494515496, 'aps': 0.9841055035833781}]\""
      ]
     },
     "execution_count": 64,
     "metadata": {},
     "output_type": "execute_result"
    }
   ],
   "source": [
    "# resp = requests.delete(\"http://localhost:5000/api/ml_models\")\n",
    "resp = requests.get(\"http://localhost:5000/api/ml_models\")\n",
    "eval(resp.text)"
   ]
  },
  {
   "cell_type": "code",
   "execution_count": null,
   "id": "2a2c896f",
   "metadata": {},
   "outputs": [],
   "source": []
  },
  {
   "cell_type": "markdown",
   "id": "96dac22b",
   "metadata": {},
   "source": [
    "**Предикт:**\n",
    "\n",
    "    1 - Проверить, как класс прогнозирует если нет y_test\n",
    "    2 - Проверить, как класс прогнозирует если есть y_test\n",
    "    1 - Проверить, как класс прогнозирует если нет y_test для одного примера\n",
    "    2 - Проверить, как класс прогнозирует если есть y_test для одного примера"
   ]
  },
  {
   "cell_type": "markdown",
   "id": "ed759e7f",
   "metadata": {},
   "source": [
    "**1 - Проверить, как класс прогнозирует если нет y_test**"
   ]
  },
  {
   "cell_type": "code",
   "execution_count": 65,
   "id": "403bb882",
   "metadata": {},
   "outputs": [],
   "source": [
    "resp = requests.get(\"http://localhost:5000/api/ml_models/predict/1\", data = {'test': test.to_json()})\n",
    "res = eval(resp.text)"
   ]
  },
  {
   "cell_type": "code",
   "execution_count": 66,
   "id": "93eb4da7",
   "metadata": {},
   "outputs": [
    {
     "data": {
      "text/plain": [
       "list"
      ]
     },
     "execution_count": 66,
     "metadata": {},
     "output_type": "execute_result"
    }
   ],
   "source": [
    "type(res)"
   ]
  },
  {
   "cell_type": "markdown",
   "id": "7d669748",
   "metadata": {},
   "source": [
    "**2 - Проверить, как класс прогнозирует если есть y_test**"
   ]
  },
  {
   "cell_type": "code",
   "execution_count": 67,
   "id": "089f6341",
   "metadata": {},
   "outputs": [],
   "source": [
    "resp = requests.get(\"http://localhost:5000/api/ml_models/predict/1\", data = {'test': test.to_json(), \n",
    "                                                                             'y_test': y_test.to_json()})\n",
    "res = eval(resp.text)"
   ]
  },
  {
   "cell_type": "code",
   "execution_count": 68,
   "id": "f9c76a05",
   "metadata": {},
   "outputs": [
    {
     "data": {
      "text/plain": [
       "{'predict_proba': [0.1067437373694157,\n",
       "  0.8875044007392549,\n",
       "  0.9473333072361484,\n",
       "  0.07401055201860594,\n",
       "  0.09847188826033597,\n",
       "  0.48106052902229296,\n",
       "  0.012829648465810898,\n",
       "  0.9772329973379824,\n",
       "  0.24438355955941932,\n",
       "  0.16690819931315862,\n",
       "  0.9416018021711308,\n",
       "  0.1293983042236388,\n",
       "  0.8379865867812024,\n",
       "  0.9818121668147508,\n",
       "  0.5611246727922166,\n",
       "  0.7715657819204296,\n",
       "  0.924229157335725,\n",
       "  0.5843262957489904,\n",
       "  0.8946466906007358,\n",
       "  0.8825430382297015,\n",
       "  0.9989992940735046,\n",
       "  0.23876662065237877,\n",
       "  0.0247540059376365,\n",
       "  0.5819746806173609,\n",
       "  0.3060744719527495,\n",
       "  0.24564799680084992,\n",
       "  0.987661138737076,\n",
       "  0.20253540624514216,\n",
       "  0.23347893240205933,\n",
       "  0.1106430280295739,\n",
       "  0.12369828681411336,\n",
       "  0.8950338044361618,\n",
       "  0.7915678661333015,\n",
       "  0.03000322408021815,\n",
       "  0.3150770025270462,\n",
       "  0.020227684868117785,\n",
       "  0.013590732343234513,\n",
       "  0.2610529762637271,\n",
       "  0.906822848178069,\n",
       "  0.876912760610255,\n",
       "  0.06095771556024039,\n",
       "  0.0849456799857594,\n",
       "  0.9944147984045199,\n",
       "  0.28299059426828554,\n",
       "  0.9293908530714141,\n",
       "  0.9758877565203921,\n",
       "  0.99750693066741,\n",
       "  0.3818219901685948,\n",
       "  0.024231038400822837,\n",
       "  0.9371253766991249,\n",
       "  0.9994554502906821,\n",
       "  0.6172711549722625,\n",
       "  0.02664426316688879,\n",
       "  0.626834597317557,\n",
       "  0.9907756963876798,\n",
       "  0.8462978351857572,\n",
       "  0.9983712146296201,\n",
       "  0.17204588329572104,\n",
       "  0.9972139546477852,\n",
       "  0.43201227548310683,\n",
       "  0.8870093723535962,\n",
       "  0.01902580806122094,\n",
       "  0.9986151571982964,\n",
       "  0.5260770092143171,\n",
       "  0.048271771285520314,\n",
       "  0.7451167759882044,\n",
       "  0.05450062621054181,\n",
       "  0.029466925496847127,\n",
       "  0.009027006299540122,\n",
       "  0.5692931173808294,\n",
       "  0.006483324004988449,\n",
       "  0.41392171125576177,\n",
       "  0.9999574194860947,\n",
       "  0.9956845376753527,\n",
       "  0.9716598833985152,\n",
       "  0.12999337057230415,\n",
       "  0.7151870427467345,\n",
       "  0.6163603471016006,\n",
       "  0.9104865118812691,\n",
       "  0.7550759508452933,\n",
       "  0.4504044293001103,\n",
       "  0.4638639104313225,\n",
       "  0.6735307773356298,\n",
       "  0.9708453287377643,\n",
       "  0.9712998553265523,\n",
       "  0.4795816964965092,\n",
       "  0.8164732411283137,\n",
       "  0.9957954822119653,\n",
       "  0.9994766996153258,\n",
       "  0.9888462024388759,\n",
       "  0.01625729924006577,\n",
       "  0.9596548623978789,\n",
       "  0.5925794788985442,\n",
       "  0.40404177554091114,\n",
       "  0.04346159292062863,\n",
       "  0.38276083823307167,\n",
       "  0.9232189629867363,\n",
       "  0.2668778052074528,\n",
       "  0.9979975820147553,\n",
       "  0.8286628144112325,\n",
       "  0.08408752362023728,\n",
       "  0.3437827348817705,\n",
       "  0.8894305114994939,\n",
       "  0.6657806780886667,\n",
       "  0.8052395226636034,\n",
       "  0.9113552885301065,\n",
       "  0.17346588523845036,\n",
       "  0.49336238258143295,\n",
       "  0.10755246583041055,\n",
       "  0.1291698217207024,\n",
       "  0.035417973376245526,\n",
       "  0.46351790237618984,\n",
       "  0.92277252653432,\n",
       "  0.9915428148147544,\n",
       "  0.07987392722541711,\n",
       "  0.9634433995230449,\n",
       "  0.7286192830248602,\n",
       "  0.5209918811707444,\n",
       "  0.6657089468937301,\n",
       "  0.21341305178531894,\n",
       "  0.739257821105439,\n",
       "  0.13357138910345898,\n",
       "  0.9982365820631273,\n",
       "  0.9131842762341346,\n",
       "  0.40860707362681864,\n",
       "  0.6426976483809504,\n",
       "  0.9326451485158749,\n",
       "  0.9783608386842563,\n",
       "  0.9997526719538773,\n",
       "  0.12767040467426904,\n",
       "  0.49036168812581193,\n",
       "  0.184852712337298,\n",
       "  0.07080214071443726,\n",
       "  0.9434131754098796,\n",
       "  0.5391688667226325,\n",
       "  0.4163638092117503,\n",
       "  0.19551696010690728,\n",
       "  0.061330518909253236,\n",
       "  0.06112469458101835,\n",
       "  0.5156133418785486,\n",
       "  0.3584299693584191,\n",
       "  0.9987650859663378,\n",
       "  0.4778450879620573,\n",
       "  0.3620533780471217,\n",
       "  0.030109483847790823,\n",
       "  0.8952014788554077,\n",
       "  0.19649997614452278,\n",
       "  0.9999357228955332,\n",
       "  0.09616901975748232,\n",
       "  0.5775775818604875,\n",
       "  0.15307700993362905,\n",
       "  0.9803400130983794,\n",
       "  0.9808294442909564,\n",
       "  0.9703461558492994,\n",
       "  0.9600422338381888,\n",
       "  0.9988316947292303,\n",
       "  0.08536282195865649,\n",
       "  0.9240039664756673,\n",
       "  0.9920951982187053,\n",
       "  0.5219659853067375,\n",
       "  0.8802876505664298,\n",
       "  0.9583965710474729,\n",
       "  0.9946580870021641,\n",
       "  0.5830020623944431,\n",
       "  0.9492826997201541,\n",
       "  0.7685167493822568,\n",
       "  0.9997384880503742,\n",
       "  0.12129870498177708,\n",
       "  0.5536483146170791,\n",
       "  0.05341846046891427,\n",
       "  0.1392993465056431,\n",
       "  0.8331142360503335,\n",
       "  0.9265888256848662,\n",
       "  0.11774590785220954,\n",
       "  0.817817414092987,\n",
       "  0.9937749091554294,\n",
       "  0.20970251153446037,\n",
       "  0.2346140683226974,\n",
       "  0.9397257300344324,\n",
       "  0.008666446581608528,\n",
       "  0.16453423312603468,\n",
       "  0.040983207292438775,\n",
       "  0.6438444483053236,\n",
       "  0.6938933807375159,\n",
       "  0.6600858760134305,\n",
       "  0.5954692015105937,\n",
       "  0.8181526009458453,\n",
       "  0.9570360981129085,\n",
       "  0.028230639879110436,\n",
       "  0.9954955363172733,\n",
       "  0.019901829368948225,\n",
       "  0.15264770207433215,\n",
       "  0.4670158638539294,\n",
       "  0.1816062999717087,\n",
       "  0.14880573282118603,\n",
       "  0.4101508419949602,\n",
       "  0.3629936936443882,\n",
       "  0.02623215775203957,\n",
       "  0.8637165753502518,\n",
       "  0.8292161967898981,\n",
       "  0.8390204740360173,\n",
       "  0.05009313881137607,\n",
       "  0.11317014768358297,\n",
       "  0.049718607321702434,\n",
       "  0.05855413397360933,\n",
       "  0.9771628535852198,\n",
       "  0.5268406301893916,\n",
       "  0.9998051170205233,\n",
       "  0.15032545723268895,\n",
       "  0.017971539692077772,\n",
       "  0.20029703646078245,\n",
       "  0.713023459487389,\n",
       "  0.4410726833001029,\n",
       "  0.11217046728415649,\n",
       "  0.9995143914162884,\n",
       "  0.4292473199708697,\n",
       "  0.7163279272186447,\n",
       "  0.9947910540627797,\n",
       "  0.14057401148480636,\n",
       "  0.21075649841526556,\n",
       "  0.9933708246847583,\n",
       "  0.06679899510133586,\n",
       "  0.20978048619506326,\n",
       "  0.19358128023166266,\n",
       "  0.0063741427707442325,\n",
       "  0.27074549832523465,\n",
       "  0.09480329694666564,\n",
       "  0.8954846207982492,\n",
       "  0.5484360328764456,\n",
       "  0.07361030452852717,\n",
       "  0.8142755588536036,\n",
       "  0.5363474828556294,\n",
       "  0.7397769128890812,\n",
       "  0.15263071078165186,\n",
       "  0.32019996726290284,\n",
       "  0.9992888162397521,\n",
       "  0.9756718471771895,\n",
       "  0.022248775215636722,\n",
       "  0.603552705615688,\n",
       "  0.8336295760071357,\n",
       "  0.00734065433280427,\n",
       "  0.979658627513336,\n",
       "  0.5757547233016441,\n",
       "  0.15637660427659458,\n",
       "  0.3825689538476911,\n",
       "  0.936400536143873,\n",
       "  0.772949513082649,\n",
       "  0.8452646116248591,\n",
       "  0.966553315049533,\n",
       "  0.05934537118070171,\n",
       "  0.9914375742994136,\n",
       "  0.8335877323294163,\n",
       "  0.044690394720982025,\n",
       "  0.030355814953311477,\n",
       "  0.03663247028179554,\n",
       "  0.28943405494496777,\n",
       "  0.4999479346934686,\n",
       "  0.03765968092459026,\n",
       "  0.6408724051582253,\n",
       "  0.06882325039328226,\n",
       "  0.09075261677350513,\n",
       "  0.9414995465412174,\n",
       "  0.1057590132528508,\n",
       "  0.9776807742377309,\n",
       "  0.9856775305746953,\n",
       "  0.8111066888010102,\n",
       "  0.2912627267258129,\n",
       "  0.41454277737080253,\n",
       "  0.08018354404099452,\n",
       "  0.17610695313057761,\n",
       "  0.8402918878744914,\n",
       "  0.14416836257564275,\n",
       "  0.9997475355141953,\n",
       "  0.9883664466842463,\n",
       "  0.7137891713545045,\n",
       "  0.0289869699659159,\n",
       "  0.8526482397950809,\n",
       "  0.39340491827331003,\n",
       "  0.5321063667828109,\n",
       "  0.7448981586986835,\n",
       "  0.7761487766134016,\n",
       "  0.8562636766672431,\n",
       "  0.6306913467232553,\n",
       "  0.9407239669166186,\n",
       "  0.8976635959834076,\n",
       "  0.1327807820555107,\n",
       "  0.9269070393474198,\n",
       "  0.04017998724709456,\n",
       "  0.0069036342514592315,\n",
       "  0.7148087953862641,\n",
       "  0.5655320530866207,\n",
       "  0.02089235879655346,\n",
       "  0.918934255946232,\n",
       "  0.6402928277759585,\n",
       "  0.7570987552452451,\n",
       "  0.05089884965114134,\n",
       "  0.06899294947017198,\n",
       "  0.6678692236923148,\n",
       "  0.913402203284185,\n",
       "  0.09340952609599262,\n",
       "  0.9964474330643768,\n",
       "  0.2027969396362762,\n",
       "  0.4392430385891552,\n",
       "  0.4550428633284212,\n",
       "  0.1511489721308161,\n",
       "  0.4004389154176066,\n",
       "  0.6028367790587348,\n",
       "  0.6583262272490077,\n",
       "  0.7794898516764687,\n",
       "  0.7207207268363682,\n",
       "  0.335052428230514,\n",
       "  0.5584373495715209,\n",
       "  0.015839510188672322,\n",
       "  0.7381171400711906,\n",
       "  0.020424387725585653,\n",
       "  0.012706404346767028,\n",
       "  0.020792126925630774,\n",
       "  0.06713279510982985,\n",
       "  0.5642644101464637,\n",
       "  0.986847854233371,\n",
       "  0.865399895960593,\n",
       "  0.06865771581631237,\n",
       "  0.23855252639589217,\n",
       "  0.33307313763852003,\n",
       "  0.967418349679969,\n",
       "  0.7571692869482225,\n",
       "  0.28686327488456687,\n",
       "  0.7427866277287074,\n",
       "  0.19164748739457152,\n",
       "  0.9787585731396192,\n",
       "  0.14665240831271992,\n",
       "  0.03094890118502173,\n",
       "  0.9264492086534418,\n",
       "  0.7461911584201009,\n",
       "  0.9065913787122623,\n",
       "  0.17351122921407136,\n",
       "  0.9771446296231762,\n",
       "  0.016432641801278354,\n",
       "  0.053617703372243836,\n",
       "  0.9844910471762931,\n",
       "  0.0344847026636025,\n",
       "  0.9676926363991618,\n",
       "  0.5761734051064622,\n",
       "  0.9921365793497291,\n",
       "  0.8269605152226291,\n",
       "  0.09825424540654393,\n",
       "  0.9564449409595244,\n",
       "  0.06763125892038843,\n",
       "  0.9955012470022592,\n",
       "  0.1931074076562174,\n",
       "  0.40540069054802935,\n",
       "  0.38387941097637823,\n",
       "  0.10099542257239665,\n",
       "  0.6584784234736484,\n",
       "  0.9047551205486088,\n",
       "  0.18539017557624765,\n",
       "  0.5939567292252371,\n",
       "  0.8805250291142817,\n",
       "  0.7625579947402424,\n",
       "  0.1476457278546748,\n",
       "  0.017369971676697,\n",
       "  0.034594359157097965,\n",
       "  0.06480577723238427,\n",
       "  0.979360679031125,\n",
       "  0.9991461921845142,\n",
       "  0.9713990556941925,\n",
       "  0.41574313911786204,\n",
       "  0.4074398234484607,\n",
       "  0.6110637452764991,\n",
       "  0.07637241392487336,\n",
       "  0.5605528990429194,\n",
       "  0.0342022296693319,\n",
       "  0.15899636855175006,\n",
       "  0.8773586984900117,\n",
       "  0.926941432863435,\n",
       "  0.9997730426964362,\n",
       "  0.029866366117998776,\n",
       "  0.25065187881336903,\n",
       "  0.6997676207871504,\n",
       "  0.6371482348920549,\n",
       "  0.4200256044231338,\n",
       "  0.8327552903385932,\n",
       "  0.5200426349953204,\n",
       "  0.9364879514627745,\n",
       "  0.9600532918571799,\n",
       "  0.8470265384632388,\n",
       "  0.37552488732938605,\n",
       "  0.42016914543793926,\n",
       "  0.965584693149732,\n",
       "  0.6092280715841801,\n",
       "  0.4024840323484815,\n",
       "  0.5918593066333584,\n",
       "  0.9198531136165637,\n",
       "  0.601090878784008,\n",
       "  0.9348331233097058,\n",
       "  0.9936237154524963,\n",
       "  0.2256559187299575,\n",
       "  0.12067984815465756,\n",
       "  0.2392662428055617,\n",
       "  0.8438839698495298,\n",
       "  0.3520457583424519,\n",
       "  0.14615256876594726,\n",
       "  0.9503452577094827,\n",
       "  0.11508073025108775,\n",
       "  0.8973104727684842,\n",
       "  0.9988211099232912,\n",
       "  0.8829642360095954,\n",
       "  0.08190795807170823,\n",
       "  0.9973636108682317,\n",
       "  0.6154630529404259,\n",
       "  0.9938973781289591,\n",
       "  0.5994743984940847,\n",
       "  0.515288481126374,\n",
       "  0.6256064988221893,\n",
       "  0.01839957390733415,\n",
       "  0.0376260860748211,\n",
       "  0.8228082465337417,\n",
       "  0.9143961620267035,\n",
       "  0.000824605845876807,\n",
       "  0.002460969508276781,\n",
       "  0.19623910560326174,\n",
       "  0.3755758235365463,\n",
       "  0.8963056976112088,\n",
       "  0.22972258081969577,\n",
       "  0.03546495431742169,\n",
       "  0.9834901817584872,\n",
       "  0.4807791204513564,\n",
       "  0.9671271974677943,\n",
       "  0.708323564801638,\n",
       "  0.9989630574966151,\n",
       "  0.5177473365950577,\n",
       "  0.6515180066042127,\n",
       "  0.10538704224782448,\n",
       "  0.3960184245150067,\n",
       "  0.6704137486577061,\n",
       "  0.9529901588743594,\n",
       "  0.10402785637497597,\n",
       "  0.47734514276970597,\n",
       "  0.5130708455457841,\n",
       "  0.5210031904997776,\n",
       "  0.06511955043141873,\n",
       "  0.05141643993983515,\n",
       "  0.18434202422746285,\n",
       "  0.2716196935999752,\n",
       "  0.9487508128442664,\n",
       "  0.7011718880567867,\n",
       "  0.9469626451894136,\n",
       "  0.9996585117857708,\n",
       "  0.11394933619423885,\n",
       "  0.003824116509543379,\n",
       "  0.5626517919429886,\n",
       "  0.3236611171279163,\n",
       "  0.6041199370463868,\n",
       "  0.9774424969602723,\n",
       "  0.11450378402181677,\n",
       "  0.004998382283572511,\n",
       "  0.9942356745046863,\n",
       "  0.2101634191528627,\n",
       "  0.8499293193605751,\n",
       "  0.9909779018773545,\n",
       "  0.28166186246171576,\n",
       "  0.9375486845969041,\n",
       "  0.5949683274531027,\n",
       "  0.45896338306756546,\n",
       "  0.30678278544496873,\n",
       "  0.6924170047769173,\n",
       "  0.058127192029628,\n",
       "  0.5415915026659865,\n",
       "  0.0999334999502188,\n",
       "  0.3477060355276166,\n",
       "  0.6849804671391722,\n",
       "  0.013048471092806387,\n",
       "  0.9994237294056174,\n",
       "  0.07790139612571571,\n",
       "  0.9987031478239804,\n",
       "  0.0032233546584395302,\n",
       "  0.02506784461525407,\n",
       "  0.1241776774187762,\n",
       "  0.8071095791116051,\n",
       "  0.7868607013757832,\n",
       "  0.3429672738813841,\n",
       "  0.4578657187576945,\n",
       "  0.6029093549020837,\n",
       "  0.10083196795543843,\n",
       "  0.9128952407587809,\n",
       "  0.9997705629849851,\n",
       "  0.49778293333784457,\n",
       "  0.5529495056908221,\n",
       "  0.8614644972775939,\n",
       "  0.1884057336193794,\n",
       "  0.36730715195149016,\n",
       "  0.3985811297240397,\n",
       "  0.04073521569195898,\n",
       "  0.0022805299701121073,\n",
       "  0.03331288674317857,\n",
       "  0.6424666793042793,\n",
       "  0.08465902519362975,\n",
       "  0.5582030623814697,\n",
       "  0.9878363001622165,\n",
       "  0.019825583254906187,\n",
       "  0.8939939625314902,\n",
       "  0.3988977882753653,\n",
       "  0.0028108273991924154,\n",
       "  0.9997836550372602,\n",
       "  0.9788455042891593,\n",
       "  0.2141660554334264,\n",
       "  0.6293375441651308,\n",
       "  0.7297246397615866,\n",
       "  0.4840187165840614,\n",
       "  0.41546242441722564,\n",
       "  0.972136711870724,\n",
       "  0.7211398466417975,\n",
       "  0.9295074275047484,\n",
       "  0.7799759702106378,\n",
       "  0.06972467968512994,\n",
       "  0.9466902882509036,\n",
       "  0.10459959567882131,\n",
       "  0.22089553886381208,\n",
       "  0.15259977752731582,\n",
       "  0.04179048452120166,\n",
       "  0.98733511606847,\n",
       "  0.8156145206451566,\n",
       "  0.790591006335849,\n",
       "  0.012895207693883881,\n",
       "  0.8784802225245335,\n",
       "  0.8402747555832529,\n",
       "  0.48238542256053313,\n",
       "  0.45085251934090703,\n",
       "  0.692458702432609,\n",
       "  0.22919813042567594,\n",
       "  0.9996326002048088,\n",
       "  0.1404114911635575,\n",
       "  0.4927165855447528,\n",
       "  0.8539284898744631,\n",
       "  0.22566862137774246,\n",
       "  0.9997831216412716,\n",
       "  0.04304252873013998,\n",
       "  0.7027361427832354,\n",
       "  0.09299934016099945,\n",
       "  0.8094675800409067,\n",
       "  0.9924604248086076,\n",
       "  0.8258998051281033,\n",
       "  0.008868141216876037,\n",
       "  0.5255340208356367,\n",
       "  0.6027127446218826,\n",
       "  0.07732806783111273,\n",
       "  0.32354493088043795,\n",
       "  0.8481534363992845,\n",
       "  0.3992332437008615,\n",
       "  0.4212575784722655,\n",
       "  0.6758813886996334,\n",
       "  0.5578422862866732,\n",
       "  0.21600562880136945,\n",
       "  0.9473204384420948,\n",
       "  0.8655987361191749,\n",
       "  0.8916738204939574,\n",
       "  0.27202169152125283,\n",
       "  0.8745049978048387,\n",
       "  0.012168425725218751,\n",
       "  0.29672098861023194,\n",
       "  0.9679441305073182,\n",
       "  0.6184700689515585,\n",
       "  0.02302463651507082,\n",
       "  0.11411621306057419,\n",
       "  0.8799264894319923,\n",
       "  0.007069099869673444,\n",
       "  0.034090579053413304,\n",
       "  0.18739438892387372,\n",
       "  0.28538567292191747,\n",
       "  0.37624861809192356,\n",
       "  0.026402951342838807,\n",
       "  0.6578369120847337,\n",
       "  0.4400536185086458,\n",
       "  0.9954965612033785,\n",
       "  0.07574742639115899,\n",
       "  0.503026995491762,\n",
       "  0.4919383028996889,\n",
       "  0.0407818347726376,\n",
       "  0.8846155762074116,\n",
       "  0.9498248766842553,\n",
       "  0.008678244834673119,\n",
       "  0.4356980240137865,\n",
       "  0.9501202622534827,\n",
       "  0.031175463459106136,\n",
       "  0.9799205756667204,\n",
       "  0.09913868774963622,\n",
       "  0.40528839893465635,\n",
       "  0.12304356783006792,\n",
       "  0.06335206495592877,\n",
       "  0.2830012308091906,\n",
       "  0.016624326413104275,\n",
       "  0.08391266939669383,\n",
       "  0.33860770628405684,\n",
       "  0.38411165866005037,\n",
       "  0.341987546297228,\n",
       "  0.9986537322196364,\n",
       "  0.9985297620592791,\n",
       "  0.15578640414808598,\n",
       "  0.11230801300064011,\n",
       "  0.2896921740294931,\n",
       "  0.999490625214106,\n",
       "  0.5012885381092692,\n",
       "  0.9793459352168017,\n",
       "  0.8971996060703457,\n",
       "  0.5169441435542531,\n",
       "  0.9945987355593315,\n",
       "  0.9849781885762829,\n",
       "  0.11504821969174803,\n",
       "  0.010788529773678557,\n",
       "  0.13259709881894544,\n",
       "  0.09753718710376863,\n",
       "  0.2063093465829027,\n",
       "  0.7676326311368791,\n",
       "  0.75478617739098,\n",
       "  0.6080516875097294,\n",
       "  0.7770672196683739,\n",
       "  0.5390817069366215,\n",
       "  0.5911881077697932,\n",
       "  0.24526521432131004,\n",
       "  0.08564366322829445,\n",
       "  0.03896880315633093,\n",
       "  0.2944052118615345,\n",
       "  0.9877407532448594,\n",
       "  0.3929053911187799,\n",
       "  0.8209575839439198,\n",
       "  0.03446725542843634,\n",
       "  0.8461766226645352,\n",
       "  0.9810713212909241,\n",
       "  0.9944307297479182,\n",
       "  0.8125331272812675,\n",
       "  0.08021256261239762,\n",
       "  0.04588251553800217,\n",
       "  0.9915308951910502,\n",
       "  0.9974882790985553,\n",
       "  0.47757066228692713,\n",
       "  0.8092048220841505,\n",
       "  0.708768546420335,\n",
       "  0.20888053339658202,\n",
       "  0.92661266264454,\n",
       "  0.08208701469891747,\n",
       "  0.9644320233982902,\n",
       "  0.0696152151015408,\n",
       "  0.010021303392610426,\n",
       "  0.37233371643371516,\n",
       "  0.13849423156685273,\n",
       "  0.7101765387020768,\n",
       "  0.8234421958911033,\n",
       "  0.899547130414798,\n",
       "  0.7911252650770922,\n",
       "  0.9954146245197032,\n",
       "  0.23375693675463396,\n",
       "  0.9980647569209364,\n",
       "  0.8518341408815511,\n",
       "  0.9979938762295386,\n",
       "  0.9958799371755508,\n",
       "  0.5569892016313472,\n",
       "  0.07090586573859003,\n",
       "  0.2671710109459674,\n",
       "  0.09255519979617466,\n",
       "  0.155189135851163,\n",
       "  0.04583118952706067,\n",
       "  0.9937253301469567,\n",
       "  0.12533155316955014,\n",
       "  0.17717506956102913,\n",
       "  0.8959808683858588,\n",
       "  0.9597070967195708,\n",
       "  0.0038155860391403703,\n",
       "  0.9499050122981911,\n",
       "  0.05030845095622177,\n",
       "  0.9218676567767756,\n",
       "  0.924480945578323,\n",
       "  0.9863229662174889,\n",
       "  0.07036342291341342,\n",
       "  0.9814256553104868,\n",
       "  0.007850021236163917,\n",
       "  0.3743481419963136,\n",
       "  0.6944403291915855,\n",
       "  0.021266144268337922,\n",
       "  0.4684940109617812,\n",
       "  0.9950540291083564,\n",
       "  0.01500999374226929,\n",
       "  0.07853723059596752,\n",
       "  0.9795948536530531,\n",
       "  0.8639120501542822,\n",
       "  0.8062829597592612,\n",
       "  0.04498593874519738,\n",
       "  0.7561760438187461,\n",
       "  0.8779795607555215,\n",
       "  0.1586445125405359,\n",
       "  0.052786965958870065,\n",
       "  0.9536852059392144,\n",
       "  0.74394001822646,\n",
       "  0.9988781045347073,\n",
       "  0.14915393860929374,\n",
       "  0.5219801554068849,\n",
       "  0.9891130834388304,\n",
       "  0.13936757052202325,\n",
       "  0.9727811508531337,\n",
       "  0.013439633761133647,\n",
       "  0.8340441256902721,\n",
       "  0.7974889721985999,\n",
       "  0.8272728419278644,\n",
       "  0.9397646133172193,\n",
       "  0.009228582023274739,\n",
       "  0.9636288600945503,\n",
       "  0.2735426976331154,\n",
       "  0.9939345877268337,\n",
       "  0.07027450571469634,\n",
       "  0.9970289049346528,\n",
       "  0.7248676792824792,\n",
       "  0.2138520837107112,\n",
       "  0.9450976465069733,\n",
       "  0.9915998429124516,\n",
       "  0.41773450766426795,\n",
       "  0.7571349839536043,\n",
       "  0.3959862360284459,\n",
       "  0.09941201010209667,\n",
       "  0.6842818699825446,\n",
       "  0.22335285489229897,\n",
       "  0.9949067457128974,\n",
       "  0.9867060220693149,\n",
       "  0.6175567832817512,\n",
       "  0.1972385635286645,\n",
       "  0.16064342997970946,\n",
       "  0.14593397670510183,\n",
       "  0.24074510326603527,\n",
       "  0.4200815219559016,\n",
       "  0.06715223160893062,\n",
       "  0.06876378551594559,\n",
       "  0.9997725599425227,\n",
       "  0.17334348453346807,\n",
       "  0.9986083868014682,\n",
       "  0.9989406809244363,\n",
       "  0.21443479969239476,\n",
       "  0.9928626269991349,\n",
       "  0.7837349426098024,\n",
       "  0.04823099560608002,\n",
       "  0.4252226513066661,\n",
       "  0.995908966680798,\n",
       "  0.22264860313575305,\n",
       "  0.06324561082254852,\n",
       "  0.01578029777434646,\n",
       "  0.10829782955349702,\n",
       "  0.11479608701932162,\n",
       "  0.08117453361296738,\n",
       "  0.28110942388525767,\n",
       "  0.297207321889897,\n",
       "  0.839970566228895,\n",
       "  0.7498121965553627,\n",
       "  0.9984494794254524,\n",
       "  0.9906608153617378,\n",
       "  0.15702964422737517,\n",
       "  0.6768965790612848,\n",
       "  0.6251544375366012,\n",
       "  0.9762696442896989,\n",
       "  0.9375823894803399,\n",
       "  0.08908856607978,\n",
       "  0.9737069901677613,\n",
       "  0.8918247610428854,\n",
       "  0.6944882735988944,\n",
       "  0.07029523512290463,\n",
       "  0.005482669750384135,\n",
       "  0.26159193079901755,\n",
       "  0.8920904219290007,\n",
       "  0.15675703745479896,\n",
       "  0.7762579844966923,\n",
       "  0.954573757771345,\n",
       "  0.22603208964608,\n",
       "  0.7431491503720031,\n",
       "  0.07366638495073072,\n",
       "  0.04907470306509143,\n",
       "  0.008065137589969145,\n",
       "  0.8675118752287424,\n",
       "  0.17105306103326418,\n",
       "  0.5203632287181417,\n",
       "  0.979836258770195,\n",
       "  0.39985623435146617,\n",
       "  0.45490755318013637,\n",
       "  0.05749591488638106,\n",
       "  0.22014753347090238,\n",
       "  0.04004931477148867,\n",
       "  0.04723364593437663,\n",
       "  0.042511952102430195,\n",
       "  0.055030811591643455,\n",
       "  0.11293926732378586,\n",
       "  0.1389050312519447,\n",
       "  0.6726223062753738,\n",
       "  0.7882951606634718,\n",
       "  0.11683785635791441,\n",
       "  0.3005091247187607,\n",
       "  0.6816330353298032,\n",
       "  0.9991608471056151,\n",
       "  0.9815744007549427,\n",
       "  0.9575050539933063,\n",
       "  0.10669378009026263,\n",
       "  0.9033388205096102,\n",
       "  0.25072108709064983,\n",
       "  0.9894533941025905,\n",
       "  0.49360035780159384,\n",
       "  0.017449822193778147,\n",
       "  0.2178796782190076,\n",
       "  0.9848176181952252,\n",
       "  0.0024400702697981898,\n",
       "  0.006986264866646916,\n",
       "  0.999611913762408,\n",
       "  0.98095040788462,\n",
       "  0.8975575275797913,\n",
       "  0.4265435860193751,\n",
       "  0.9179200802780493,\n",
       "  0.9976807899541366,\n",
       "  0.249993902257732,\n",
       "  0.05351784148828874,\n",
       "  0.8129925260761115,\n",
       "  0.07589595310930636,\n",
       "  0.932645362646211,\n",
       "  0.5868922232237804,\n",
       "  0.3915333329787559,\n",
       "  0.19657935293564247,\n",
       "  0.02149008712900226,\n",
       "  0.906614835043967,\n",
       "  0.5830680376394914,\n",
       "  0.23248566718169952,\n",
       "  0.1228522565925349,\n",
       "  0.10693782360558551,\n",
       "  0.8973114178996815,\n",
       "  0.010427903802894689,\n",
       "  0.45797319561595046,\n",
       "  0.20046151663845282,\n",
       "  0.004154488860388518,\n",
       "  0.5427247265295144,\n",
       "  0.033431041431818985,\n",
       "  0.02820492560313975,\n",
       "  0.9931974665715277,\n",
       "  0.771105066354157,\n",
       "  0.4683931289716732,\n",
       "  0.22658169705894846,\n",
       "  0.5800439086216472,\n",
       "  0.999409819011551,\n",
       "  0.13162336921504864,\n",
       "  0.35868269257451874,\n",
       "  0.1410921370693822,\n",
       "  0.11395976833563999,\n",
       "  0.1710085061642034,\n",
       "  0.8502877998569044,\n",
       "  0.01528419897904965,\n",
       "  0.7884450881151984,\n",
       "  0.45830434747955384,\n",
       "  0.5874171177272421,\n",
       "  0.9312900519221873,\n",
       "  0.8978285856266025,\n",
       "  0.015202288895648442,\n",
       "  0.6055305532193794,\n",
       "  0.18652973402413836,\n",
       "  0.8465272286933486,\n",
       "  0.9956901885477565,\n",
       "  0.23288926741891616,\n",
       "  0.9992008677965193,\n",
       "  0.9999350711267295,\n",
       "  0.9909209121448799,\n",
       "  0.2672856937280489,\n",
       "  0.2750765624790366,\n",
       "  0.12216877931236164,\n",
       "  0.049891549732161596,\n",
       "  0.7096529123780793,\n",
       "  0.9373109491932761,\n",
       "  0.9997011192835019,\n",
       "  0.2720578425966039,\n",
       "  0.24403123548941372,\n",
       "  0.10282557467811597,\n",
       "  0.20575535756043706,\n",
       "  0.034839308933335755,\n",
       "  0.08365287604292122,\n",
       "  0.740298584164435,\n",
       "  0.9428176049013803,\n",
       "  0.8212668911979304,\n",
       "  0.22582251413158627,\n",
       "  0.06462015321500256,\n",
       "  0.5305384701303338,\n",
       "  0.1385127220029617,\n",
       "  0.08512636033249756,\n",
       "  0.9980643285103317,\n",
       "  0.01472541739649163,\n",
       "  0.9968984317025424,\n",
       "  0.9198116247292332,\n",
       "  0.9846799851527192,\n",
       "  0.9160057095853037,\n",
       "  0.7113236517710956,\n",
       "  0.2108238936900522,\n",
       "  0.7186889234187249,\n",
       "  0.0023592059245461793,\n",
       "  0.9988024084434458,\n",
       "  0.8190880917965448,\n",
       "  0.03510160124043831,\n",
       "  0.2794463518798716,\n",
       "  0.9996755343618536,\n",
       "  0.059587885711101664,\n",
       "  0.9854331182094351,\n",
       "  0.12094583943789133,\n",
       "  0.8179843899325184,\n",
       "  0.2138558085346351,\n",
       "  0.974214644495964,\n",
       "  0.05768121583887475,\n",
       "  0.12501672450246076,\n",
       "  0.9880178400853176,\n",
       "  0.016956998395124708,\n",
       "  0.4430298561875558,\n",
       "  0.9658657959139588,\n",
       "  0.9180974963944396,\n",
       "  0.12569366565411627,\n",
       "  0.11878601591133621,\n",
       "  0.2062066023954575,\n",
       "  0.6366966778432049,\n",
       "  0.5757387730883884,\n",
       "  0.16685701460328245,\n",
       "  0.19167171557754084,\n",
       "  0.286355666437451,\n",
       "  0.4204791012167182,\n",
       "  0.05419264530776731,\n",
       "  0.7744104741168668,\n",
       "  0.9921276368446558,\n",
       "  0.9836696047497306,\n",
       "  0.853962760044854,\n",
       "  0.6616041870004457,\n",
       "  0.03450767238422283,\n",
       "  0.12017821304783385,\n",
       "  0.003147327443002741,\n",
       "  0.20011814847176299,\n",
       "  0.8532432580423407,\n",
       "  0.12396755151000949,\n",
       "  0.7264805672321522,\n",
       "  0.9729854955474446,\n",
       "  0.08563402828902562,\n",
       "  0.5886848634633519,\n",
       "  0.9991199542595529,\n",
       "  0.03881971103952721,\n",
       "  0.02585866153378633,\n",
       "  0.8831707632366076,\n",
       "  0.03824607545052683,\n",
       "  0.026393088567004147,\n",
       "  0.7464341136246748,\n",
       "  0.27933717251553397,\n",
       "  0.0685307561790709,\n",
       "  0.17251444910432748,\n",
       "  0.2787002145327571,\n",
       "  0.14628986162314267,\n",
       "  0.849120041085675,\n",
       "  0.9973449829745299,\n",
       "  0.226593330050622,\n",
       "  0.033743073562483995,\n",
       "  0.9497276988947895,\n",
       "  0.00840385884279357,\n",
       "  0.9907538856489546,\n",
       "  0.8735227514627799,\n",
       "  0.36967056767956274,\n",
       "  0.29057418407282665,\n",
       "  0.39663897813854165,\n",
       "  0.9389478546602347,\n",
       "  0.02915148061725334,\n",
       "  0.03849353870868105,\n",
       "  0.9929855036483181,\n",
       "  0.5000215705156263,\n",
       "  0.20739595081115753,\n",
       "  0.4346687433950951,\n",
       "  0.8794087210926717,\n",
       "  0.3885898128478564,\n",
       "  0.2507403437288885,\n",
       "  0.15260892559936048,\n",
       "  0.08713494740159906,\n",
       "  0.2092838224450113,\n",
       "  0.33961447821863844,\n",
       "  0.9856277920629312,\n",
       "  0.057797215218689475,\n",
       "  0.0005819490211484525,\n",
       "  0.06631469510774514,\n",
       "  0.12436799264056381,\n",
       "  0.015988378658775785,\n",
       "  0.9971972822319636,\n",
       "  0.2785300797105417,\n",
       "  0.2396838422684381,\n",
       "  0.906317212922985,\n",
       "  0.38556414553812934,\n",
       "  0.4293182702532487,\n",
       "  0.49650297361863066,\n",
       "  0.37931305756826644,\n",
       "  0.9976197413948702,\n",
       "  0.011668878060587086,\n",
       "  0.013758858150920993,\n",
       "  0.4682620618987067,\n",
       "  0.1659293025612495,\n",
       "  0.44768572390143313,\n",
       "  0.11194716572616714,\n",
       "  0.999026752836784,\n",
       "  0.8161585144197537,\n",
       "  0.019294580945458873,\n",
       "  0.6094329656432846,\n",
       "  0.21397166066569903,\n",
       "  0.9995525998761237,\n",
       "  0.8348334731763667,\n",
       "  0.04874623179721735,\n",
       "  0.873847515797737,\n",
       "  ...],\n",
       " 'acc': 0.8332,\n",
       " 'roc_auc': 0.9185636315228966,\n",
       " 'aps': 0.9263534339715367}"
      ]
     },
     "execution_count": 68,
     "metadata": {},
     "output_type": "execute_result"
    }
   ],
   "source": [
    "res"
   ]
  },
  {
   "cell_type": "code",
   "execution_count": 69,
   "id": "265a9c17",
   "metadata": {},
   "outputs": [
    {
     "data": {
      "text/plain": [
       "list"
      ]
     },
     "execution_count": 69,
     "metadata": {},
     "output_type": "execute_result"
    }
   ],
   "source": [
    "type(res['predict_proba'])"
   ]
  },
  {
   "cell_type": "markdown",
   "id": "3c963c97",
   "metadata": {},
   "source": [
    "**1 - Проверить, как класс прогнозирует если нет y_test для одного примера**"
   ]
  },
  {
   "cell_type": "code",
   "execution_count": 70,
   "id": "65bafd98",
   "metadata": {},
   "outputs": [],
   "source": [
    "test1 = test.reset_index(drop = True).loc[0, :]\n",
    "y_test1 = y_test.reset_index(drop = True)[0]\n",
    "\n",
    "test1_array = np.array(test1)\n",
    "test1_df = pd.DataFrame(test1).T"
   ]
  },
  {
   "cell_type": "markdown",
   "id": "75b67efb",
   "metadata": {},
   "source": [
    "DataFrame"
   ]
  },
  {
   "cell_type": "code",
   "execution_count": 71,
   "id": "c52f01ca",
   "metadata": {},
   "outputs": [
    {
     "data": {
      "text/html": [
       "<div>\n",
       "<style scoped>\n",
       "    .dataframe tbody tr th:only-of-type {\n",
       "        vertical-align: middle;\n",
       "    }\n",
       "\n",
       "    .dataframe tbody tr th {\n",
       "        vertical-align: top;\n",
       "    }\n",
       "\n",
       "    .dataframe thead th {\n",
       "        text-align: right;\n",
       "    }\n",
       "</style>\n",
       "<table border=\"1\" class=\"dataframe\">\n",
       "  <thead>\n",
       "    <tr style=\"text-align: right;\">\n",
       "      <th></th>\n",
       "      <th>0</th>\n",
       "      <th>1</th>\n",
       "      <th>2</th>\n",
       "      <th>3</th>\n",
       "      <th>4</th>\n",
       "      <th>5</th>\n",
       "      <th>6</th>\n",
       "      <th>7</th>\n",
       "      <th>8</th>\n",
       "      <th>9</th>\n",
       "    </tr>\n",
       "  </thead>\n",
       "  <tbody>\n",
       "    <tr>\n",
       "      <th>0</th>\n",
       "      <td>1.807295</td>\n",
       "      <td>1.335301</td>\n",
       "      <td>1.276759</td>\n",
       "      <td>-0.304694</td>\n",
       "      <td>2.579903</td>\n",
       "      <td>1.13575</td>\n",
       "      <td>-0.32638</td>\n",
       "      <td>0.165265</td>\n",
       "      <td>1.178869</td>\n",
       "      <td>3.092016</td>\n",
       "    </tr>\n",
       "  </tbody>\n",
       "</table>\n",
       "</div>"
      ],
      "text/plain": [
       "          0         1         2         3         4        5        6  \\\n",
       "0  1.807295  1.335301  1.276759 -0.304694  2.579903  1.13575 -0.32638   \n",
       "\n",
       "          7         8         9  \n",
       "0  0.165265  1.178869  3.092016  "
      ]
     },
     "execution_count": 71,
     "metadata": {},
     "output_type": "execute_result"
    }
   ],
   "source": [
    "test1_df"
   ]
  },
  {
   "cell_type": "code",
   "execution_count": 72,
   "id": "64f0de9b",
   "metadata": {},
   "outputs": [],
   "source": [
    "resp = requests.get(\"http://localhost:5000/api/ml_models/predict/1\", data = {'test': test1.to_json()})\n",
    "res = eval(resp.text)"
   ]
  },
  {
   "cell_type": "code",
   "execution_count": 73,
   "id": "34e28dbd",
   "metadata": {},
   "outputs": [
    {
     "data": {
      "text/plain": [
       "[0.1067437373694157]"
      ]
     },
     "execution_count": 73,
     "metadata": {},
     "output_type": "execute_result"
    }
   ],
   "source": [
    "res"
   ]
  },
  {
   "cell_type": "code",
   "execution_count": null,
   "id": "f7c7a41d",
   "metadata": {},
   "outputs": [],
   "source": []
  },
  {
   "cell_type": "code",
   "execution_count": null,
   "id": "78917b56",
   "metadata": {},
   "outputs": [],
   "source": []
  },
  {
   "cell_type": "code",
   "execution_count": null,
   "id": "b6a6359e",
   "metadata": {},
   "outputs": [],
   "source": []
  }
 ],
 "metadata": {
  "kernelspec": {
   "display_name": "Python 3",
   "language": "python",
   "name": "python3"
  },
  "language_info": {
   "codemirror_mode": {
    "name": "ipython",
    "version": 3
   },
   "file_extension": ".py",
   "mimetype": "text/x-python",
   "name": "python",
   "nbconvert_exporter": "python",
   "pygments_lexer": "ipython3",
   "version": "3.8.8"
  }
 },
 "nbformat": 4,
 "nbformat_minor": 5
}
